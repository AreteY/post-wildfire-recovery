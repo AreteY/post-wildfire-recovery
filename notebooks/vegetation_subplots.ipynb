{
 "cells": [
  {
   "cell_type": "markdown",
   "id": "4edb92a4",
   "metadata": {},
   "source": [
    "# Post-wildfire Vegetation Recovery\n",
    "## In this Jupyter notebook, we explore the NEON Terrestrial Observation System plots. \n",
    "* First, we determine which NEON plots are within the Chimney Tops 2 Fire boundary. \n",
    "* Next, we determine which NEON plots were classified for vegetation and percent cover and find their spatial coordinates using the NEON API. \n",
    "* Lastly, we analyze subplots of plot 55 for percent cover and plot our results using a pivot table.\n",
    "\n",
    "Author: Heidi Yoon"
   ]
  },
  {
   "cell_type": "code",
   "execution_count": null,
   "id": "0a7b7f4a",
   "metadata": {},
   "outputs": [],
   "source": [
    "# Import packages\n",
    "import os\n",
    "import sys\n",
    "\n",
    "import matplotlib.pyplot as plt\n",
    "import pandas as pd\n",
    "import requests\n",
    "import geopandas as gpd\n",
    "import earthpy as et\n",
    "\n",
    "# Check module path\n",
    "project_path = os.path.abspath(os.path.join('..'))\n",
    "if project_path not in sys.path:\n",
    "    sys.path.append(project_path)\n",
    "    \n",
    "import modules.reflectance as refl\n",
    "import modules.plots as plots"
   ]
  },
  {
   "cell_type": "code",
   "execution_count": null,
   "id": "f5580adb",
   "metadata": {},
   "outputs": [],
   "source": [
    "# Get NEON plant presence percent cover data from NEON API\n",
    "# Endpoints are data product, site, date, and release year\n",
    "neon_base = \"https://data.neonscience.org/api/v0/data\"\n",
    "data_product = \"/DP1.10058.001\"\n",
    "site = \"/GRSM\"\n",
    "april_release = \"/2017-04?package=expanded&release=RELEASE-2022\"\n",
    "july_release = \"/2017-07?package=expanded&release=RELEASE-2022\" \n",
    "aug_release = \"/2017-08?package=expanded&release=RELEASE-2022\"\n",
    "april_url = neon_base + data_product + site + april_release\n",
    "july_url = neon_base + data_product + site + july_release\n",
    "aug_url = neon_base + data_product + site + aug_release\n",
    "april_data = requests.get(april_url)\n",
    "july_data = requests.get(july_url)\n",
    "aug_data = requests.get(aug_url)"
   ]
  },
  {
   "cell_type": "code",
   "execution_count": null,
   "id": "2515be91",
   "metadata": {},
   "outputs": [],
   "source": [
    "# Using API response, find the url corresponding to 1m2 subplots\n",
    "april_df = pd.json_normalize(april_data.json()['data']['files'])\n",
    "july_df = pd.json_normalize(july_data.json()['data']['files'])\n",
    "aug_df = pd.json_normalize(aug_data.json()['data']['files'])"
   ]
  },
  {
   "cell_type": "code",
   "execution_count": null,
   "id": "d914573e",
   "metadata": {},
   "outputs": [],
   "source": [
    "# Define data directory and data paths\n",
    "data_dir = os.path.join(project_path, 'data')\n",
    "plots_dir = os.path.join(data_dir, 'neon_tos_plot_centroids')\n",
    "\n",
    "april_plots_path = os.path.join(data_dir, 'NEON_GRSM_201704_1m2_veg_cover.csv') \n",
    "july_plots_path = os.path.join(data_dir, 'NEON_GRSM_201707_1m2_veg_cover.csv')\n",
    "aug_plots_path = os.path.join(data_dir, 'NEON_GRSM_201708_1m2_veg_cover.csv')\n",
    "\n",
    "chimney_fire_dir = os.path.join(data_dir, 'chimtops2_burn_bndy')\n",
    "chimney_fire_path = os.path.join(\n",
    "    data_dir, 'chimtops2_burn_bndy', 'chimtops2_burn_bndy.shp')\n",
    "plots_path = os.path.join(\n",
    "    data_dir, 'neon_tos_plot_centroids', 'ALL_NEON_TOS_Plot_Centroids_V8.shp')\n",
    "\n",
    "# Check if data directory exists\n",
    "try:\n",
    "    os.makedirs(data_dir)\n",
    "    print('The data directory has been created!')\n",
    "except FileExistsError:\n",
    "    print('The data directory already exists!')"
   ]
  },
  {
   "cell_type": "code",
   "execution_count": null,
   "id": "1bdc0fa6",
   "metadata": {},
   "outputs": [],
   "source": [
    "# Get NEON plant presence percent cover data\n",
    "april_csv = (\n",
    "    'NEON.D07.GRSM.DP1.10058.001.div_1m2Data.2017-04.expanded.20211221T195314Z.csv')\n",
    "july_csv = (\n",
    "    'NEON.D07.GRSM.DP1.10058.001.div_1m2Data.2017-07.expanded.20211222T004157Z.csv')\n",
    "aug_csv = (\n",
    "    'NEON.D07.GRSM.DP1.10058.001.div_1m2Data.2017-08.expanded.20211222T012732Z.csv')\n",
    "\n",
    "april_plots_url = april_df[april_df['name'] == april_csv]['url'].iloc[0]\n",
    "july_plots_url = july_df[july_df['name'] == july_csv]['url'].iloc[0]\n",
    "aug_plots_url = aug_df[aug_df['name'] == aug_csv]['url'].iloc[0]\n",
    "\n",
    "april_data = refl.download_file(april_plots_path, april_plots_url)\n",
    "july_data = refl.download_file(july_plots_path, july_plots_url)\n",
    "aug_data = refl.download_file(aug_plots_path, aug_plots_url)"
   ]
  },
  {
   "cell_type": "code",
   "execution_count": null,
   "id": "605916af",
   "metadata": {},
   "outputs": [],
   "source": [
    "# Get MTBS fire boundary\n",
    "fire_bound_url = (\n",
    "        'https://github.com/AreteY/post-wildfire-vegetation-change/files/'\n",
    "        '8567790/chimtops2_burn_bndy.zip')\n",
    "\n",
    "fire_bound_data = refl.download_zipfile(\n",
    "    chimney_fire_path, fire_bound_url, chimney_fire_dir)\n",
    "\n",
    "# Get NEON TOS plot centroids\n",
    "plots_url = (\n",
    "    'https://github.com/AreteY/post-wildfire-recovery/files/8961276/'\n",
    "    'neon_tos_plot_centroids.zip')\n",
    "plots_data = refl.download_zipfile(plots_path, plots_url, plots_dir)"
   ]
  },
  {
   "cell_type": "code",
   "execution_count": null,
   "id": "ef2f2a96",
   "metadata": {},
   "outputs": [],
   "source": [
    "# Read data\n",
    "fire_bound = gpd.read_file(chimney_fire_path)\n",
    "neon_plots = gpd.read_file(plots_path)\n",
    "\n",
    "# Reproject CRS to UTM \n",
    "fire_reproj = fire_bound.to_crs(epsg=32617)\n",
    "plots_reproj = neon_plots.to_crs(epsg=32617)"
   ]
  },
  {
   "cell_type": "markdown",
   "id": "ee7d7ceb",
   "metadata": {},
   "source": [
    "### Since the shapefile contains all of the NEON TOS plots, we crop the plots shapefile to the fire boundary and determine which plots are inside the fire boundary by using the `geopandas.sjoin()` function."
   ]
  },
  {
   "cell_type": "code",
   "execution_count": null,
   "id": "aba94757",
   "metadata": {},
   "outputs": [],
   "source": [
    "# Clip plots to fire boundary\n",
    "plots_clip = gpd.clip(plots_reproj, fire_reproj)\n",
    "\n",
    "# Assign plots a fire boundary attribute\n",
    "plots_fire_bound = gpd.sjoin(plots_clip,\n",
    "                             fire_reproj,\n",
    "                             how='inner',\n",
    "                             predicate='intersects')"
   ]
  },
  {
   "cell_type": "markdown",
   "id": "ad99cea0",
   "metadata": {},
   "source": [
    "### We can list the plots that are located inside the fire boundary:"
   ]
  },
  {
   "cell_type": "code",
   "execution_count": null,
   "id": "66ce847a",
   "metadata": {},
   "outputs": [],
   "source": [
    "#sorted(plots_fire_bound['plotID'].unique())"
   ]
  },
  {
   "cell_type": "markdown",
   "id": "baef3bbf",
   "metadata": {},
   "source": [
    "### We can also visualize the plots located inside the fire boundary in a map:"
   ]
  },
  {
   "cell_type": "code",
   "execution_count": null,
   "id": "254ba7fd",
   "metadata": {},
   "outputs": [],
   "source": [
    "# Plot the fire perimeter within NEON plots\n",
    "fig, ax = plt.subplots(figsize=(12, 12))\n",
    "\n",
    "fire_reproj.plot(ax=ax,\n",
    "                 color='white',\n",
    "                 edgecolor='black')\n",
    "\n",
    "plots_fire_bound.plot(ax=ax,\n",
    "                      color='yellow',\n",
    "                      edgecolor='purple')\n",
    "\n",
    "\n",
    "# Set figure title and axes \n",
    "ax.set(\n",
    "   title=\"Map\",\n",
    "   xlabel='UTM easting (m)',\n",
    "   ylabel='UTM northing (m)')\n",
    "ax.ticklabel_format(useOffset=False, style='plain')\n",
    "\n",
    "plt.show()"
   ]
  },
  {
   "cell_type": "markdown",
   "id": "7dd97f0f",
   "metadata": {},
   "source": [
    "### Not all of the plots within the fire boundary are classified for plant presence and percent cover by the NEON Terrestrial Observation System team. We can determine which plots are classified by using the `pandas.merge()` function with the plots within the fire boundary and the classified plots from the plant presence and percent cover data product."
   ]
  },
  {
   "cell_type": "code",
   "execution_count": null,
   "id": "7d61a70d",
   "metadata": {},
   "outputs": [],
   "source": [
    "# Read NEON plant presence percent cover data\n",
    "veg_201704_1m2_df = pd.read_csv(april_plots_path)\n",
    "veg_201707_1m2_df = pd.read_csv(july_plots_path)\n",
    "veg_201708_1m2_df = pd.read_csv(aug_plots_path)"
   ]
  },
  {
   "cell_type": "code",
   "execution_count": null,
   "id": "445c4512",
   "metadata": {},
   "outputs": [],
   "source": [
    "april_fire_plots = pd.merge(\n",
    "    veg_201704_1m2_df, plots_fire_bound, how='inner',\n",
    "    left_on='plotID', right_on='plotID'\n",
    ")\n",
    "april_fire_plots['plotID'].unique()"
   ]
  },
  {
   "cell_type": "code",
   "execution_count": null,
   "id": "a8f4a3bc",
   "metadata": {},
   "outputs": [],
   "source": [
    "july_fire_plots = pd.merge(\n",
    "    veg_201707_1m2_df, plots_fire_bound, how='inner',\n",
    "    left_on='plotID', right_on='plotID'\n",
    ")\n",
    "july_fire_plots['plotID'].unique()"
   ]
  },
  {
   "cell_type": "code",
   "execution_count": null,
   "id": "446a6c5f",
   "metadata": {},
   "outputs": [],
   "source": [
    "aug_fire_plots = pd.merge(\n",
    "    veg_201708_1m2_df, plots_fire_bound, how='inner',\n",
    "    left_on='plotID', right_on='plotID'\n",
    ")\n",
    "aug_fire_plots['plotID']"
   ]
  },
  {
   "cell_type": "markdown",
   "id": "506592ff",
   "metadata": {},
   "source": [
    "### We find that 9 classified plots are within the fire boundary. We can find the coordinates of each of the subplots within these plots using the NEON API."
   ]
  },
  {
   "cell_type": "code",
   "execution_count": null,
   "id": "b1b5be4c",
   "metadata": {},
   "outputs": [],
   "source": [
    "# Initialize plots list\n",
    "plots_ls = []\n",
    "\n",
    "# Define plots and subplots within fire perimeter\n",
    "fire_plots = ['/GRSM_001.basePlot.div', '/GRSM_003.basePlot.div',\n",
    "              '/GRSM_007.basePlot.div', '/GRSM_008.basePlot.div',\n",
    "              '/GRSM_009.basePlot.div', '/GRSM_012.basePlot.div',\n",
    "              '/GRSM_055.basePlot.div', '/GRSM_058.basePlot.div',\n",
    "              '/GRSM_059.basePlot.div']\n",
    "\n",
    "sub_plots = ['.40.1.1', '.40.3.1', '.41.1.1', '.41.4.1', \n",
    "             '.31.1.1', '.31.4.1', '.32.2.1', '.32.4.1']\n",
    "\n",
    "# NEON API for UTM coordinates of TOS plots in GRSM\n",
    "# Endpoint is location and location name = fire plots\n",
    "neon_base = \"https://data.neonscience.org/api/v0\"\n",
    "data_product = \"/locations\""
   ]
  },
  {
   "cell_type": "code",
   "execution_count": null,
   "id": "71aca64d",
   "metadata": {},
   "outputs": [],
   "source": [
    "for plot in fire_plots:\n",
    "    for sub in sub_plots:\n",
    "        plot_url = neon_base + data_product + plot + sub\n",
    "        plot_data = requests.get(plot_url)\n",
    "        grsm_plots_df = pd.json_normalize(plot_data.json()['data'])\n",
    "        plots_ls += [[grsm_plots_df['locationName'][0], \n",
    "                      grsm_plots_df['locationUtmEasting'][0], \n",
    "                      grsm_plots_df['locationUtmNorthing'][0]]]\n",
    "plots_df = pd.DataFrame(\n",
    "    plots_ls, columns = ['name', 'utm-easting', 'utm-northing'])\n",
    "grsm_plots_path = os.path.join(\n",
    "    project_path, 'outputs', 'grsm_plots_coords.csv')\n",
    "plots_df\n",
    "#plots_df.to_csv(grsm_plots_path, index=False)"
   ]
  },
  {
   "cell_type": "markdown",
   "id": "f342384f",
   "metadata": {},
   "source": [
    "### For each plot, we can analyze each of the subplots and determine which percentage contains vegetation, standing dead trees, soil, and litter. For this example, let's consider plot 55 and use the field data from April 2017."
   ]
  },
  {
   "cell_type": "code",
   "execution_count": null,
   "id": "c12a9889",
   "metadata": {},
   "outputs": [],
   "source": [
    "grsm_055_201704_all = veg_201704_1m2_df[veg_201704_1m2_df['namedLocation']\n",
    "                                        == 'GRSM_055.basePlot.div']\n",
    "grsm_055_201704 = grsm_055_201704_all[[\n",
    "    'plotID', 'subplotID', 'family', 'otherVariables', 'percentCover']]"
   ]
  },
  {
   "cell_type": "markdown",
   "id": "2873804f",
   "metadata": {},
   "source": [
    "### The vegetation in each subplot is identified by the species family. Other components are classified into categories, such as, standing dead, soil, litter, lichen, moss, rock, wood, and other non-vascular cover. \n",
    "Here is an example of the percent cover for plot 55 subplot 31.1.1:"
   ]
  },
  {
   "cell_type": "code",
   "execution_count": null,
   "id": "7f63269a",
   "metadata": {},
   "outputs": [],
   "source": [
    "# Dataframe for subplot 31.1.1 - vegetation and other components\n",
    "grsm_055_3111_201704 = grsm_055_201704[grsm_055_201704['subplotID']=='31.1.1']\n",
    "# Subset of dataframe for other components\n",
    "grsm_055_3111_othervar = grsm_055_3111_201704.dropna(subset=['otherVariables'])\n",
    "grsm_055_3111_201704"
   ]
  },
  {
   "cell_type": "markdown",
   "id": "ed5dd903",
   "metadata": {},
   "source": [
    "### Using dataframes subsetted for each subplot, we can calculate the percent cover. Using the function `percent_cover_by_plot` below, we report the vegetation percent cover as the sum of the percent cover of all identified vegetation. The categories for standing dead trees, soil, and litter are weighted by the non-vegetation fraction."
   ]
  },
  {
   "cell_type": "code",
   "execution_count": null,
   "id": "8c0f9ce9",
   "metadata": {},
   "outputs": [],
   "source": [
    "# Percent Cover for all subplots within Plot 55 for April 2017\n",
    "plot055 = 'GRSM_055.basePlot.div'\n",
    "plots.percent_cover_by_plot(april_plots_path, plot055)"
   ]
  },
  {
   "cell_type": "markdown",
   "id": "b351a751",
   "metadata": {},
   "source": [
    "### We reorder the data frame to create a pivot table below for the left-most subplots (40.1.1, 40.3.1, and 31.1.1), the right-most subplots (41.4.1, 32.4.1, 32.2.1), and the middle subplots (31.4.1, 41.1.1)."
   ]
  },
  {
   "cell_type": "code",
   "execution_count": null,
   "id": "a90b5cfa",
   "metadata": {},
   "outputs": [],
   "source": [
    "a = ['veg', '40.1.1', 13.5]\n",
    "b = ['st.dead', '40.1.1', 0.9]\n",
    "c = ['soil', '40.1.1', 25.1]\n",
    "d = ['litter', '40.1.1', 34.6]\n",
    "e = ['veg', '40.3.1', 23.0]\n",
    "f = ['st.dead', '40.3.1', 1.5]\n",
    "g = ['soil', '40.3.1', 40.8]\n",
    "h = ['litter', '40.3.1', 23.1]\n",
    "i = ['veg', '31.1.1', 20.5]\n",
    "j = ['st.dead', '31.1.1', 0.8]\n",
    "k = ['soil', '31.1.1', 59.6]\n",
    "l = ['litter', '31.1.1', 15.9]\n",
    "left_plots = [a, b, c, d, e, f, g, h, i, j, k, l]\n",
    "left_plots_df = pd.DataFrame(\n",
    "    left_plots, columns=['class', 'subplot', 'percent'])\n",
    "left_plots_df = left_plots_df.set_index('class')\n",
    "left_plots_pivot = left_plots_df.pivot_table('percent', ['class'], 'subplot')\n",
    "left_plots_pivot"
   ]
  },
  {
   "cell_type": "code",
   "execution_count": null,
   "id": "53c58f43",
   "metadata": {},
   "outputs": [],
   "source": [
    "aa = ['veg', '41.4.1', 34.5]\n",
    "bb = ['st.dead', '41.4.1', 0.7]\n",
    "cc = ['soil', '41.4.1', 45.2]\n",
    "dd = ['litter', '41.4.1', 15.1]\n",
    "ee = ['veg', '32.4.1', 21.0]\n",
    "ff = ['st.dead', '32.4.1', 0.8]\n",
    "gg = ['soil', '32.4.1', 15.8]\n",
    "hh = ['litter', '32.4.1', 46.6]\n",
    "ii = ['veg', '32.2.1', 22.0]\n",
    "jj = ['st.dead', '32.2.1', 0.8]\n",
    "kk = ['soil', '32.2.1', 26.5]\n",
    "ll = ['litter', '32.2.1', 35.1]\n",
    "right_plots = [aa, bb, cc, dd, ee, ff, gg, hh, ii, jj, kk, ll]\n",
    "right_plots_df = pd.DataFrame(\n",
    "    right_plots, columns=['class', 'subplot', 'percent'])\n",
    "right_plots_df = right_plots_df.set_index('class')\n",
    "right_plots_pivot = right_plots_df.pivot_table('percent', ['class'], 'subplot')\n",
    "right_plots_pivot"
   ]
  },
  {
   "cell_type": "code",
   "execution_count": null,
   "id": "151b3e44",
   "metadata": {},
   "outputs": [],
   "source": [
    "aaa = ['veg', '31.4.1', 27.5]\n",
    "bbb = ['st.dead', '31.4.1', 0.0]\n",
    "ccc = ['soil', '31.4.1', 58.0]\n",
    "ddd = ['litter', '31.4.1', 5.8]\n",
    "eee = ['veg', '41.1.1', 23.5]\n",
    "fff = ['st.dead', '41.1.1', 0.0]\n",
    "ggg = ['soil', '41.1.1', 42.8]\n",
    "hhh = ['litter', '41.1.1', 25.2]\n",
    "middle_plots = [aaa, bbb, ccc, ddd, eee, fff, ggg, hhh]\n",
    "middle_plots_df = pd.DataFrame(\n",
    "    middle_plots, columns=['class', 'subplot', 'percent'])\n",
    "middle_plots_df = middle_plots_df.set_index('class')\n",
    "middle_plots_pivot = middle_plots_df.pivot_table('percent', ['class'], 'subplot')\n",
    "middle_plots_pivot"
   ]
  },
  {
   "cell_type": "code",
   "execution_count": null,
   "id": "bfdcc831",
   "metadata": {},
   "outputs": [],
   "source": [
    "# Plot percent cover for plot 55\n",
    "left_colors = [\"green\", \"blue\", \"purple\"]\n",
    "right_colors = [\"green\", \"purple\", \"blue\"]\n",
    "middle_colors = [\"blue\", \"purple\"]\n",
    "\n",
    "# Define plot space\n",
    "f, (ax1, ax2, ax3) = plt.subplots(3, 1, figsize=(12, 12))\n",
    "\n",
    "left_plots_pivot.plot.bar(color=left_colors,\n",
    "                          ax=ax1).legend(loc='upper right')\n",
    "right_plots_pivot.plot.bar(color=right_colors,\n",
    "                           ax=ax2).legend(loc='upper right')\n",
    "middle_plots_pivot.plot.bar(color=middle_colors,\n",
    "                            ax=ax3).legend(loc='upper right')\n",
    "\n",
    "# Set figure title and axes labels\n",
    "ax1.set(title=\"Percent Cover for Plot 55\",\n",
    "        ylabel=\"Percent Cover\")\n",
    "ax2.set(ylabel=\"Percent Cover\")\n",
    "ax3.set(xlabel=\"Classification\",\n",
    "        ylabel=\"Percent Cover\")\n",
    "\n",
    "ax1.set(ylim=[0, 65])\n",
    "ax2.set(ylim=[0, 65])\n",
    "ax3.set(ylim=[0, 65])\n",
    "\n",
    "plt.setp(ax1.get_xticklabels(), rotation = 45)\n",
    "plt.setp(ax2.get_xticklabels(), rotation = 45)\n",
    "plt.setp(ax3.get_xticklabels(), rotation = 45)\n",
    "\n",
    "plt.tight_layout\n",
    "\n",
    "plt.show()"
   ]
  },
  {
   "cell_type": "code",
   "execution_count": null,
   "id": "368079ac",
   "metadata": {},
   "outputs": [],
   "source": []
  }
 ],
 "metadata": {
  "kernelspec": {
   "display_name": "Python 3 (ipykernel)",
   "language": "python",
   "name": "python3"
  },
  "language_info": {
   "codemirror_mode": {
    "name": "ipython",
    "version": 3
   },
   "file_extension": ".py",
   "mimetype": "text/x-python",
   "name": "python",
   "nbconvert_exporter": "python",
   "pygments_lexer": "ipython3",
   "version": "3.8.13"
  }
 },
 "nbformat": 4,
 "nbformat_minor": 5
}
