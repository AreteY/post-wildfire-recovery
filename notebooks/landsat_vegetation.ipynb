{
 "cells": [
  {
   "cell_type": "markdown",
   "id": "6644deb3",
   "metadata": {},
   "source": [
    "# Post-wildfire Vegetation Recovery\n",
    "Author: Heidi Yoon"
   ]
  },
  {
   "cell_type": "markdown",
   "id": "ad59a0aa",
   "metadata": {},
   "source": [
    "## In this Jupyter notebook, we calculate vegetation indices using Landsat reflectance data. \n",
    "* We use Landsat 8 bands 4-7 to characterize and analyze the reflectance. Since each Landsat band is stored as a separate TIF file, we use different functions than those used for the NEON analysis to process the reflectance data. As part of processing, we also mask for clouds using the pixel quality assurance (QA) layer.\n",
    "* Since one Landsat scene covers a large spatial area, we clip the original Landsat raster to the Chimney Tops 2 fire boundary."
   ]
  },
  {
   "cell_type": "code",
   "execution_count": 4,
   "id": "9a693254",
   "metadata": {},
   "outputs": [],
   "source": [
    "# Import packages\n",
    "import os\n",
    "from glob import glob\n",
    "import sys\n",
    "\n",
    "import numpy as np\n",
    "import matplotlib.pyplot as plt\n",
    "import rioxarray as rxr\n",
    "from rasterio.plot import plotting_extent\n",
    "import xarray as xr\n",
    "import geopandas as gpd\n",
    "from shapely.geometry import Polygon\n",
    "import earthpy.mask as em\n",
    "\n",
    "# Check module path\n",
    "project_path = os.path.abspath(os.path.join('..'))\n",
    "if project_path not in sys.path:\n",
    "    sys.path.append(project_path)\n",
    "    \n",
    "import modules.landsat as landsat\n",
    "import modules.reflectance as refl"
   ]
  },
  {
   "cell_type": "code",
   "execution_count": 2,
   "id": "003e320b",
   "metadata": {},
   "outputs": [
    {
     "name": "stdout",
     "output_type": "stream",
     "text": [
      "The data directory already exists!\n",
      "The pre-fire directory already exists!\n"
     ]
    }
   ],
   "source": [
    "# Define data directory and data paths\n",
    "data_dir = os.path.join(project_path, 'data')\n",
    "post_fire_dir = os.path.join(data_dir, 'landsat-20171005')\n",
    "pre_fire_dir = os.path.join(data_dir, 'landsat-20160409')\n",
    "chimney_fire_dir = os.path.join(data_dir, 'chimtops2_burn_bndy')\n",
    "\n",
    "pre_fire_path = os.path.join(\n",
    "    data_dir, 'landsat-20160409', \n",
    "    'LC08_L2SP_019035_20160409_20200907_02_T1_SR_B4.TIF')\n",
    "fire_bound_path = os.path.join(data_dir, 'chimtops2_burn_bndy', \n",
    "                               'chimtops2_burn_bndy.shp')\n",
    "\n",
    "post_qa_path = os.path.join(\n",
    "    post_fire_dir, 'LC08_L2SP_019035_20171005_20200903_02_T1_QA_PIXEL.TIF')\n",
    "# post_band4_path = os.path.join(\n",
    "#     post_fire_dir, 'LC08_L2SP_019035_20171005_20200903_02_T1_SR_B4.TIF')\n",
    "# post_band5_path = os.path.join(\n",
    "#     post_fire_dir, 'LC08_L2SP_019035_20171005_20200903_02_T1_SR_B5.TIF')\n",
    "# post_band6_path = os.path.join(\n",
    "#     post_fire_dir, 'LC08_L2SP_019035_20171005_20200903_02_T1_SR_B6.TIF')\n",
    "# post_band7_path = os.path.join(\n",
    "#     post_fire_dir, 'LC08_L2SP_019035_20171005_20200903_02_T1_SR_B7.TIF')\n",
    "\n",
    "pre_qa_path = os.path.join(\n",
    "    pre_fire_dir, 'LC08_L2SP_019035_20160409_20200907_02_T1_QA_PIXEL.TIF')\n",
    "pre_band4_path = os.path.join(\n",
    "    pre_fire_dir, 'LC08_L2SP_019035_20160409_20200907_02_T1_SR_B4.TIF')\n",
    "pre_band5_path = os.path.join(\n",
    "    pre_fire_dir, 'LC08_L2SP_019035_20160409_20200907_02_T1_SR_B5.TIF')\n",
    "pre_band6_path = os.path.join(\n",
    "    pre_fire_dir, 'LC08_L2SP_019035_20160409_20200907_02_T1_SR_B6.TIF')\n",
    "pre_band7_path = os.path.join(\n",
    "    pre_fire_dir, 'LC08_L2SP_019035_20160409_20200907_02_T1_SR_B7.TIF')\n",
    "\n",
    "# # Make list of all data paths\n",
    "# post_paths_ls = [post_qa_path, post_band4_path, post_band5_path, \n",
    "#                  post_band6_path, post_band7_path]\n",
    "\n",
    "# Check if data directory exists\n",
    "try:\n",
    "    os.makedirs(data_dir)\n",
    "    print('The data directory has been created!')\n",
    "except FileExistsError:\n",
    "    print('The data directory already exists!')\n",
    "\n",
    "# Check if pre-fire directory exists\n",
    "try:\n",
    "    os.makedirs(pre_fire_dir)\n",
    "    print('The pre-fire directory has been created!')\n",
    "except FileExistsError:\n",
    "    print('The pre-fire directory already exists!')"
   ]
  },
  {
   "cell_type": "markdown",
   "id": "738cab19",
   "metadata": {},
   "source": [
    "### Landsat data is available for download using [Earth Explorer](https://earthexplorer.usgs.gov). Here, we have downloaded two Landsat scenes using the following:\n",
    "1. Search Criteria: \n",
    "* Predefined Area of Sevier County in Tennessee\n",
    "** (a) Data Range from 09/01/2017 to 11/01/2017 (post-fire data)\n",
    "and\n",
    "** (b) Data Range from 03/01/2016 to 05/01/2016 (pre-fire data)\n",
    "2. Data Sets\n",
    "* Select Landsat\n",
    "* Select Landsat Collection 2 Level-2\n",
    "* Select Landsat 8-9 OLI/TIRS C2 L2\n",
    "\n",
    "### For more details about how to use Earth Explorer, please see [this lesson](https://www.earthdatascience.org/courses/use-data-open-source-python/multispectral-remote-sensing/landsat-in-Python/get-landsat-data-earth-explorer/) from our Earth Lab online textbook."
   ]
  },
  {
   "cell_type": "code",
   "execution_count": 3,
   "id": "e7bbc93a",
   "metadata": {},
   "outputs": [],
   "source": [
    "# Get Landsat data\n",
    "# pre_fire_url = ('https://docs.google.com/uc?export=download&id=1BunjNMyQSvYF96iMpxPRqL8iycMIBm3K')\n",
    "# #https://drive.google.com/file/d/1BunjNMyQSvYF96iMpxPRqL8iycMIBm3K/view?usp=sharing\n",
    "# pre_fire_data = refl.download_zipfile(pre_fire_path, pre_fire_url, pre_fire_dir)\n",
    "\n",
    "pre_qa_url = ('https://drive.google.com/file/d/1qj3L4r35F5wkMHmpyR2I8gtF6U-7QYmn/view?usp=sharing')\n",
    "pre_band4_url = ('https://drive.google.com/file/d/1NMge4xp17q_ZNEAFBF74hYWHjwkj2rO5/view?usp=sharing')\n",
    "pre_band5_url = ('https://drive.google.com/file/d/11h_ZmpD1aMeQGlHrfvGn4N1hx__xa5b5/view?usp=sharing')\n",
    "pre_band6_url = ('https://drive.google.com/file/d/1t7UNHb_kYKFh5eO1qtp_aRa8wHM6h6N7/view?usp=sharing')\n",
    "pre_band7_url = ('https://drive.google.com/file/d/1FE4jUE2Jhpg-a209l10euJtiE6f4ovvY/view?usp=sharing')\n",
    "\n",
    "pre_qa_data = refl.download_file(pre_qa_path, pre_qa_url)\n",
    "pre_band4_data = refl.download_file(pre_band4_path, pre_band4_url)\n",
    "pre_band5_data = refl.download_file(pre_band5_path, pre_band5_url)\n",
    "pre_band6_data = refl.download_file(pre_band6_path, pre_band6_url)\n",
    "pre_band7_data = refl.download_file(pre_band7_path, pre_band7_url)\n",
    "\n",
    "# Downloaded files are too small.\n"
   ]
  },
  {
   "cell_type": "code",
   "execution_count": null,
   "id": "db7dc105",
   "metadata": {},
   "outputs": [],
   "source": [
    "# Get MTBS fire boundary\n",
    "fire_bound_url = (\n",
    "        'https://github.com/AreteY/post-wildfire-vegetation-change/files/'\n",
    "        '8567790/chimtops2_burn_bndy.zip')\n",
    "\n",
    "fire_bound_data = refl.download_zipfile(\n",
    "    fire_bound_path, fire_bound_url, chimney_fire_dir)"
   ]
  },
  {
   "cell_type": "code",
   "execution_count": null,
   "id": "970f1c07",
   "metadata": {},
   "outputs": [],
   "source": [
    "# Open fire boundary\n",
    "fire_bound = gpd.read_file(fire_bound_path)\n",
    "\n",
    "# Reproject fire boundary to that of landsat and neon data\n",
    "fire_bound_reproj = fire_bound.to_crs(epsg=32617)"
   ]
  },
  {
   "cell_type": "markdown",
   "id": "a5469092",
   "metadata": {},
   "source": [
    "### Since each reflectance band for Landsat data is a separate band, we process the data as a list and as a stacked data array to use below for our analysis. We also crop the Landsat scene to fire boundary of the Chimney Tops 2 Fire."
   ]
  },
  {
   "cell_type": "code",
   "execution_count": null,
   "id": "c55c9720",
   "metadata": {},
   "outputs": [],
   "source": [
    "all_post_fire_bands = sorted(glob(os.path.join(post_fire_dir, '*B[4-7].TIF')))\n",
    "all_pre_fire_bands = sorted (glob(os.path.join(pre_fire_dir, '*B[4-7].TIF')))\n",
    "\n",
    "# List of processed bands\n",
    "all_post_bands = landsat.process_bands(\n",
    "    all_post_fire_bands, fire_bound_reproj, stack=False)\n",
    "all_pre_bands = landsat.process_bands(\n",
    "    all_pre_fire_bands, fire_bound_reproj, stack=False)\n",
    "\n",
    "# Stack of processed bands\n",
    "post_fire_xr = landsat.process_bands(\n",
    "    all_post_fire_bands, fire_bound_reproj, stack=True)\n",
    "pre_fire_xr = landsat.process_bands(\n",
    "    all_pre_fire_bands, fire_bound_reproj, stack=True)\n",
    "\n",
    "# Define the Landsat plotting extent\n",
    "landsat_extent = plotting_extent(post_fire_xr[0], post_fire_xr.rio.transform())"
   ]
  },
  {
   "cell_type": "markdown",
   "id": "c3d802b9",
   "metadata": {},
   "source": [
    "### Lastly, sometimes the reflectance data is obscured by clouds and so here, we define which types of clouds (High Cloud Confidence, Cloud, Cloud Shadow) we will mask in the analysis below."
   ]
  },
  {
   "cell_type": "code",
   "execution_count": null,
   "id": "ad3e104f",
   "metadata": {},
   "outputs": [],
   "source": [
    "# Define cloud mask values\n",
    "high_cloud_confidence = (\n",
    "    em.pixel_flags['pixel_qa']['L8']['High Cloud Confidence'])\n",
    "cloud = em.pixel_flags['pixel_qa']['L8']['Cloud']\n",
    "cloud_shadow = em.pixel_flags['pixel_qa']['L8']['Cloud Shadow']\n",
    "\n",
    "cloud_values = high_cloud_confidence + cloud + cloud_shadow"
   ]
  },
  {
   "cell_type": "markdown",
   "id": "3d2bd4ce",
   "metadata": {},
   "source": [
    "### As we did with the NEON reflectance data, we will use three different vegetation indices to evaluate the burned areas after the Chimney Tops 2 Fire with the Landsat data. Below, we calculate the normalized burn ratio, normalized difference vegetation index, and the modified soil adjusted vegetation index for the Landsat data. In addition to calculating the vegetation index, we also mask for clouds here.\n",
    "### 1. Normalized Burn Ratio (NBR)\n",
    "* NBR uses the spectral response of burned vegetation versus healthy vegetation to identify burned areas.\n",
    "* $NBR=\\frac{(NIR-SWIR)}{(NIR+SWIR)}$\n",
    "* The difference normalized burn ratio (dNBR) is the difference between the pre-fire NBR and the post-fire NBR."
   ]
  },
  {
   "cell_type": "code",
   "execution_count": null,
   "id": "d8edc4a9",
   "metadata": {},
   "outputs": [],
   "source": [
    "# Calculate nbr and mask for clouds\n",
    "post_nbr = landsat.masked_norm_diff(\n",
    "    all_post_bands, fire_bound_reproj, post_qa_path, cloud_values, calc='nbr')\n",
    "pre_nbr = landsat.masked_norm_diff(\n",
    "    all_pre_bands, fire_bound_reproj, pre_qa_path, cloud_values, calc='nbr')\n",
    "\n",
    "# Calculate dnbr\n",
    "dnbr = pre_nbr - post_nbr"
   ]
  },
  {
   "cell_type": "code",
   "execution_count": null,
   "id": "b0bb2bbb",
   "metadata": {},
   "outputs": [],
   "source": [
    "# Plot dNBR\n",
    "fig, ax = plt.subplots(figsize=(12, 6))\n",
    "\n",
    "plot = ax.imshow(dnbr,\n",
    "                  extent=landsat_extent,\n",
    "                  cmap='PiYG')\n",
    "\n",
    "# Color bar settings\n",
    "cbar = plt.colorbar(plot, aspect=40)\n",
    "cbar.set_label('Diff Normalized Burn Ratio', rotation=90, labelpad=20)\n",
    "\n",
    "# Remove scientific notation from tile coordinates\n",
    "ax.ticklabel_format(useOffset=False, style='plain')\n",
    "\n",
    "# Set figure title and axes labels\n",
    "ax.set(\n",
    "    title='Chimney Tops 2 Fire dNBR\\n (Apr. 9, 2016-Oct. 5, 2017)',\n",
    "    xlabel='UTM easting (m)',\n",
    "    ylabel='UTM northing (m)')\n",
    "rotatexlabels = plt.setp(ax.get_xticklabels(), rotation=90)\n",
    "\n",
    "# Data source caption\n",
    "ax.text(.95, .01, \"Source: Landsat\", va='bottom',\n",
    "         ha='right', transform=ax.transAxes, color=\"blue\", fontweight=\"bold\")\n",
    "\n",
    "plt.show()"
   ]
  },
  {
   "cell_type": "markdown",
   "id": "34f9f1ea",
   "metadata": {},
   "source": [
    "### 2. Normalized Difference Vegetation Index (NDVI)\n",
    "* NDVI uses the spectral response of vegetation to quantity the greenness of an area.\n",
    "* $NDVI=\\frac{(NIR-Red)}{(NIR+Red)}$\n",
    "* The difference NDVI is the difference between the post-fire NDVI and the pre-fire NDVI."
   ]
  },
  {
   "cell_type": "code",
   "execution_count": null,
   "id": "efc03bff",
   "metadata": {},
   "outputs": [],
   "source": [
    "# Calc ndvi and mask for clouds\n",
    "post_ndvi = landsat.masked_norm_diff(\n",
    "    all_post_bands, fire_bound_reproj, post_qa_path, cloud_values, calc='ndvi')\n",
    "pre_ndvi = landsat.masked_norm_diff(\n",
    "    all_pre_bands, fire_bound_reproj, pre_qa_path, cloud_values, calc='ndvi')\n",
    "\n",
    "# Calculate diff ndvi\n",
    "diff_ndvi = post_ndvi - pre_ndvi"
   ]
  },
  {
   "cell_type": "code",
   "execution_count": null,
   "id": "7c52fcf2",
   "metadata": {},
   "outputs": [],
   "source": [
    "# Plot diff NDVI\n",
    "fig, ax = plt.subplots(figsize=(12, 6))\n",
    "\n",
    "plot = ax.imshow(diff_ndvi,\n",
    "                  extent=landsat_extent,\n",
    "                  cmap='PiYG')\n",
    "\n",
    "# Color bar settings\n",
    "cbar = plt.colorbar(plot, aspect=40)\n",
    "cbar.set_label('Diff Normalized Difference Vegetation Index', rotation=90, \n",
    "               labelpad=20)\n",
    "\n",
    "# Remove scientific notation from tile coordinates\n",
    "ax.ticklabel_format(useOffset=False, style='plain')\n",
    "\n",
    "# Set figure title and axes labels\n",
    "ax.set(\n",
    "    title='Chimney Tops 2 Fire Difference NDVI\\n (Oct. 5, 2017-Apr. 9, 2016)',\n",
    "    xlabel='UTM easting (m)',\n",
    "    ylabel='UTM northing (m)')\n",
    "rotatexlabels = plt.setp(ax.get_xticklabels(), rotation=90)\n",
    "\n",
    "# Data source caption\n",
    "ax.text(.95, .01, \"Source: Landsat\", va='bottom',\n",
    "         ha='right', transform=ax.transAxes, color=\"blue\", fontweight=\"bold\")\n",
    "\n",
    "plt.show()"
   ]
  },
  {
   "cell_type": "markdown",
   "id": "4e35a4d0",
   "metadata": {},
   "source": [
    "### 3. Modified Soil Adjusted Vegetation Index (MSAVI)\n",
    "* MSAVI is a vegetation index in which the soil-noise background is minimized using a factor that varies inversely with the amount of vegetation present.\n",
    "* The MSAVI equation has been expanded for ease of computation from its original form of\n",
    "$\\frac{2NIR+1-\\sqrt{(2NIR + 1)^{2}-8(NIR-Red)}}{2}$ to $NIR+0.5-0.5\\sqrt{4NIR^{2}-4NIR+8Red+1}$\n",
    "* The difference MSAVI is the difference between the post-fire NDVI and the pre-fire NDVI."
   ]
  },
  {
   "cell_type": "code",
   "execution_count": null,
   "id": "6d346dcf",
   "metadata": {},
   "outputs": [],
   "source": [
    "# Calculate msavi\n",
    "post_msavi = landsat.masked_msavi(\n",
    "    all_post_bands, fire_bound_reproj, post_qa_path, cloud_values)\n",
    "pre_msavi = landsat.masked_msavi(\n",
    "    all_pre_bands, fire_bound_reproj, pre_qa_path, cloud_values)\n",
    "\n",
    "# Calculate diff msavi\n",
    "diff_msavi = post_msavi - pre_msavi"
   ]
  },
  {
   "cell_type": "code",
   "execution_count": null,
   "id": "6312d42f",
   "metadata": {},
   "outputs": [],
   "source": [
    "# Plot diff MSAVI\n",
    "fig, ax = plt.subplots(figsize=(12, 6))\n",
    "\n",
    "plot = plt.imshow(diff_msavi,\n",
    "                  extent=landsat_extent,\n",
    "                  cmap='PiYG')\n",
    "\n",
    "# Color bar settings\n",
    "cbar = plt.colorbar(plot, aspect=40)\n",
    "cbar.set_label('Diff MSAVI', rotation=90, labelpad=20)\n",
    "\n",
    "# Remove scientific notation from tile coordinates\n",
    "ax.ticklabel_format(useOffset=False, style='plain')\n",
    "\n",
    "# Set figure title and axes labels\n",
    "ax.set(\n",
    "    title='Chimney Tops 2 Fire Difference MSAVI\\n (Oct. 5, 2017-Apr. 9, 2016)',\n",
    "    xlabel='UTM easting (m)',\n",
    "    ylabel='UTM northing (m)')\n",
    "rotatexlabels = plt.setp(ax.get_xticklabels(), rotation=90)\n",
    "\n",
    "# Data source caption\n",
    "ax.text(.95, .01, \"Source: Landsat\", va='bottom',\n",
    "         ha='right', transform=ax.transAxes, color=\"blue\", fontweight=\"bold\")\n",
    "\n",
    "plt.show()"
   ]
  },
  {
   "cell_type": "markdown",
   "id": "8d8a928c",
   "metadata": {},
   "source": [
    "### In order to compare to the NEON 1-km<sup>2</sup> reflectance tiles, here we make a shapefile in order to crop our Landsat data to a 1-km<sup>2</sup> area with the same spatial coordinates using geopandas and the Polygon constructor from the shapely library."
   ]
  },
  {
   "cell_type": "code",
   "execution_count": 8,
   "id": "00664d02",
   "metadata": {},
   "outputs": [
    {
     "name": "stderr",
     "output_type": "stream",
     "text": [
      "/Users/yheidiyoon/opt/miniconda3/envs/earth-analytics-neon/lib/python3.8/site-packages/geopandas/io/file.py:362: FutureWarning: pandas.Int64Index is deprecated and will be removed from pandas in a future version. Use pandas.Index with the appropriate dtype instead.\n",
      "  pd.Int64Index,\n"
     ]
    }
   ],
   "source": [
    "# Try making polygon to clip landsat data\n",
    "coords = [(274000, 3947000), (275000, 3947000),\n",
    "          (275000, 3948000), (274000, 3948000)]\n",
    "polygon = Polygon(coords)\n",
    "gdf = gpd.GeoDataFrame(index=[0], crs='epsg:32617', geometry=[polygon])\n",
    "gdf.to_file(os.path.join(project_path, 'outputs', 'tile_274000_3947000.shp'))"
   ]
  },
  {
   "cell_type": "code",
   "execution_count": 9,
   "id": "1eebaeaa",
   "metadata": {},
   "outputs": [
    {
     "data": {
      "text/plain": [
       "<Derived Projected CRS: EPSG:32617>\n",
       "Name: WGS 84 / UTM zone 17N\n",
       "Axis Info [cartesian]:\n",
       "- E[east]: Easting (metre)\n",
       "- N[north]: Northing (metre)\n",
       "Area of Use:\n",
       "- name: Between 84°W and 78°W, northern hemisphere between equator and 84°N, onshore and offshore. Bahamas. Ecuador - north of equator. Canada - Nunavut; Ontario; Quebec. Cayman Islands. Colombia. Costa Rica. Cuba. Jamaica. Nicaragua. Panama. United States (USA).\n",
       "- bounds: (-84.0, 0.0, -78.0, 84.0)\n",
       "Coordinate Operation:\n",
       "- name: UTM zone 17N\n",
       "- method: Transverse Mercator\n",
       "Datum: World Geodetic System 1984 ensemble\n",
       "- Ellipsoid: WGS 84\n",
       "- Prime Meridian: Greenwich"
      ]
     },
     "execution_count": 9,
     "metadata": {},
     "output_type": "execute_result"
    }
   ],
   "source": [
    "neon_clip_path = os.path.join(project_path, 'outputs', 'tile_274000_3947000.shp')\n",
    "neon_clip = gpd.read_file(neon_clip_path)\n",
    "neon_clip.crs"
   ]
  },
  {
   "cell_type": "code",
   "execution_count": null,
   "id": "2e546465",
   "metadata": {},
   "outputs": [],
   "source": [
    "# Clip dnbr\n",
    "dnbr_clip = dnbr.rio.clip(neon_clip.geometry)"
   ]
  },
  {
   "cell_type": "code",
   "execution_count": null,
   "id": "5d015e79",
   "metadata": {},
   "outputs": [],
   "source": [
    "# Define the clip plot extent\n",
    "clip_extent = plotting_extent(\n",
    "    dnbr_clip, dnbr_clip.rio.transform())\n",
    "\n",
    "# Plot dNBR\n",
    "fig, ax = plt.subplots(figsize=(12, 6))\n",
    "\n",
    "plot = ax.imshow(dnbr_clip,\n",
    "                  extent=clip_extent,\n",
    "                  cmap='PiYG')\n",
    "\n",
    "# Color bar settings\n",
    "cbar = plt.colorbar(plot, aspect=40)\n",
    "cbar.set_label('Diff Normalized Burn Ratio', rotation=90, labelpad=20)\n",
    "plot.set_clim(-0.3, 0.3)\n",
    "\n",
    "# Remove scientific notation from tile coordinates\n",
    "ax.ticklabel_format(useOffset=False, style='plain')\n",
    "\n",
    "# Set figure title and axes labels\n",
    "ax.set(\n",
    "    title='Chimney Tops 2 Fire dNBR\\n (Apr. 9, 2016-Oct. 5, 2017)',\n",
    "    xlabel='UTM easting (m)',\n",
    "    ylabel='UTM northing (m)')\n",
    "rotatexlabels = plt.setp(ax.get_xticklabels(), rotation=90)\n",
    "#ax.set(xlim=[273000, 274000], ylim=[3951000, 3952000])\n",
    "\n",
    "# Data source caption\n",
    "ax.text(.95, .01, \"Source: Landsat\", va='bottom',\n",
    "         ha='right', transform=ax.transAxes, color=\"blue\", fontweight=\"bold\")\n",
    "\n",
    "plt.show()"
   ]
  }
 ],
 "metadata": {
  "kernelspec": {
   "display_name": "Python 3 (ipykernel)",
   "language": "python",
   "name": "python3"
  },
  "language_info": {
   "codemirror_mode": {
    "name": "ipython",
    "version": 3
   },
   "file_extension": ".py",
   "mimetype": "text/x-python",
   "name": "python",
   "nbconvert_exporter": "python",
   "pygments_lexer": "ipython3",
   "version": "3.8.13"
  }
 },
 "nbformat": 4,
 "nbformat_minor": 5
}
