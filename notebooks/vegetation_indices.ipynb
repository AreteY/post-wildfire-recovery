{
 "cells": [
  {
   "cell_type": "markdown",
   "id": "31288d65",
   "metadata": {},
   "source": [
    "# Post-wildfire Vegetation Recovery\n",
    "## In this Jupyter notebook, we calculate vegetation indices with NEON reflectance data.\n",
    "Author: Heidi Yoon"
   ]
  },
  {
   "cell_type": "code",
   "execution_count": null,
   "id": "f3d29fa3",
   "metadata": {},
   "outputs": [],
   "source": [
    "# Import packages\n",
    "import io\n",
    "import os\n",
    "import sys\n",
    "import zipfile\n",
    "\n",
    "import matplotlib.pyplot as plt\n",
    "import numpy as np\n",
    "import pandas as pd\n",
    "import requests\n",
    "import h5py\n",
    "import geopandas as gpd\n",
    "import earthpy.plot as ep\n",
    "\n",
    "# Check module path\n",
    "project_path = os.path.abspath(os.path.join('..'))\n",
    "print(project_path)\n",
    "if project_path not in sys.path:\n",
    "    sys.path.append(project_path)\n",
    "    \n",
    "import modules.reflectance as refl"
   ]
  },
  {
   "cell_type": "markdown",
   "id": "a32aad7e",
   "metadata": {},
   "source": [
    "The NEON reflectance data is available from the [NEON Data API](https://data.neonscience.org/data-api/). We use the API here to download the data for our analysis."
   ]
  },
  {
   "cell_type": "code",
   "execution_count": null,
   "id": "3bf2cfac",
   "metadata": {},
   "outputs": [],
   "source": [
    "# Get NEON reflectance data from NEON API\n",
    "# Endpoints are data product, site, date, and release year\n",
    "neon_base = \"https://data.neonscience.org/api/v0/data\"\n",
    "data_product = \"/DP3.30006.001\"\n",
    "site = \"/GRSM\"\n",
    "post_fire_release = \"/2017-10?package=basic&release=RELEASE-2023\"\n",
    "post_fire_url = neon_base + data_product + site + post_fire_release\n",
    "post_fire_data = requests.get(post_fire_url)\n",
    "\n",
    "# Similarly for the pre-fire data\n",
    "pre_fire_release = \"/2016-06?package=basic&release=RELEASE-2023\"\n",
    "pre_fire_url = neon_base + data_product + site + pre_fire_release\n",
    "pre_fire_data = requests.get(pre_fire_url)"
   ]
  },
  {
   "cell_type": "code",
   "execution_count": null,
   "id": "f6167b3d",
   "metadata": {},
   "outputs": [],
   "source": [
    "# Using API response, find the url corresponding to tile of interest\n",
    "post_fire_df = pd.json_normalize(post_fire_data.json()['data']['files'])\n",
    "pre_fire_df = pd.json_normalize(pre_fire_data.json()['data']['files'])"
   ]
  },
  {
   "cell_type": "code",
   "execution_count": null,
   "id": "431be002",
   "metadata": {},
   "outputs": [],
   "source": [
    "# Define data directory and data paths\n",
    "data_dir = os.path.join(project_path, 'data')\n",
    "post_data_path = os.path.join(\n",
    "    data_dir, 'NEON_GRSM_274000_3947000_201710_reflectance.h5')\n",
    "pre_data_path = os.path.join(\n",
    "    data_dir, 'NEON_GRSM_274000_3947000_201606_reflectance.h5')\n",
    "chimney_fire_dir = os.path.join(data_dir, 'chimtops2_burn_bndy')\n",
    "chimney_fire_path = os.path.join(\n",
    "    chimney_fire_dir, 'chimtops2_burn_bndy.shp')\n",
    "\n",
    "# Check if data directory exists\n",
    "try:\n",
    "    os.makedirs(data_dir)\n",
    "    print('The data directory has been created!')\n",
    "except FileExistsError:\n",
    "    print('The data directory already exists!')"
   ]
  },
  {
   "cell_type": "code",
   "execution_count": null,
   "id": "725c2bee",
   "metadata": {},
   "outputs": [],
   "source": [
    "# Get NEON reflectance data\n",
    "post_url = (\n",
    "        'https://storage.googleapis.com/neon-aop-products/2017/FullSite/D07/'\n",
    "        '2017_GRSM_3/L3/Spectrometer/Reflectance/'\n",
    "        'NEON_D07_GRSM_DP3_274000_3947000_reflectance.h5')\n",
    "pre_url = (\n",
    "        'https://storage.googleapis.com/neon-aop-products/2016/FullSite/D07/'\n",
    "        '2016_GRSM_2/L3/Spectrometer/Reflectance/'\n",
    "        'NEON_D07_GRSM_DP3_274000_3947000_reflectance.h5')\n",
    "\n",
    "post_fire_data = refl.download_file(post_data_path, post_url)\n",
    "pre_fire_data = refl.download_file(pre_data_path, pre_url)"
   ]
  },
  {
   "cell_type": "code",
   "execution_count": null,
   "id": "0ad1562d",
   "metadata": {},
   "outputs": [],
   "source": [
    "# Get MTBS fire boundary\n",
    "fire_bound_url = (\n",
    "        'https://github.com/AreteY/post-wildfire-vegetation-change/files/'\n",
    "        '8567790/chimtops2_burn_bndy.zip')\n",
    "\n",
    "fire_bound_data = refl.download_zipfile(\n",
    "    chimney_fire_path, fire_bound_url, chimney_fire_dir)"
   ]
  },
  {
   "cell_type": "code",
   "execution_count": null,
   "id": "b14d8148",
   "metadata": {},
   "outputs": [],
   "source": [
    "# Open NEON data and store reflectance array and metadata\n",
    "post_fire_refl, post_fire_metadata = refl.aop_h5refl2array(post_data_path)\n",
    "pre_fire_refl, pre_fire_metadata = refl.aop_h5refl2array(pre_data_path)"
   ]
  },
  {
   "cell_type": "code",
   "execution_count": null,
   "id": "6ba0c885",
   "metadata": {},
   "outputs": [],
   "source": [
    "# Open fire boundary and reproject crs\n",
    "chimney_fire_bound = gpd.read_file(chimney_fire_path)\n",
    "chimney_fire_reproj = chimney_fire_bound.to_crs(epsg=32617)"
   ]
  },
  {
   "cell_type": "markdown",
   "id": "ef7bf713",
   "metadata": {},
   "source": [
    "## <a href=\"https://www.earthdatascience.org/courses/use-data-open-source-python/multispectral-remote-sensing/vegetation-indices-in-python/\" target=\"_blank\">Vegetation Analysis</a>\n",
    "We will use three different vegetation indices to evaluate the burned areas after the Chimney Tops 2 Fire.\n",
    "1. **Normalized Burn Ratio (NBR)**\n",
    "* NBR uses the spectral response of burned vegetation versus healthy vegetation to identify burned areas.\n",
    "2. **Normalized Difference Vegetation Index (NDVI)**\n",
    "* NDVI uses the spectral response of vegetation to quantity the greenness of an area.\n",
    "3. **Modified Soil Adjusted Vegetation Index (MSAVI)**\n",
    "* MSAVI is a vegetation index in which the soil-noise background is minimized using a factor that varies inversely with the amount of vegetation present. \n",
    "* Reference: Qi, J.; Chehbouni, A.; Huete, A.; Kerr, Y., Sorooshian, S. A modified soil adjusted vegetation index. *Remote Sens. Environ.* **1994**, 48, 119-126. https://doi.org/10.1016/0034-4257(94)90134-1\n",
    "\n",
    "## Selection of Bands for Vegetation Analysis\n",
    "The NEON imaging spectrometer measures 426 bands in the range of 383.5343 - 2511.8945 nm, in which each band has a band width of 5 nm.\n",
    "\n",
    "### For the calculation of NBR, we use band 117 for the NIR band and band 400 for the SWIR band.\n",
    "* Reference: vanGerrevink, M.J.; Veraverbeke, S. Evaluating the Hyperspectral Sensitivity of the Differenced Normalized Burn Ratio for Assessing Fire Severity. *Remote Sens.* **2021**, 13, 4611. https://doi.org/10.3390/rs13224611\n",
    "\n",
    "### For the calculation of NDVI and MSAVI, we use band 58 for the Red band and band 84 for the NIR band. \n",
    "* Reference: Meng, R.; Wu, J.; Feng, Z.; Cook, B. D.; Hanavan, R. P.; Serbin, S. P. Measuring short-term post-fire forest recovery across a burn severity gradient in a mixed pine-oak forest using multi-sensor remote sensing techniques. *Remote Sens. Environ.* **2018**, 210, 282-296. https://doi.org/10.1016/j.rse.2018.03.019"
   ]
  },
  {
   "cell_type": "code",
   "execution_count": null,
   "id": "4d9cddb1",
   "metadata": {},
   "outputs": [],
   "source": [
    "print('Band 58 Center Wavelength = %.2f' %(\n",
    "    post_fire_metadata['wavelength'][57]),'nm')\n",
    "print('Band 84 Center Wavelength = %.2f' %(\n",
    "    post_fire_metadata['wavelength'][83]),'nm')\n",
    "print('Band 117 Center Wavelength = %.2f' %(\n",
    "    post_fire_metadata['wavelength'][116]),'nm')\n",
    "print('Band 400 Center Wavelength = %.2f' %(\n",
    "    post_fire_metadata['wavelength'][399]),'nm')"
   ]
  },
  {
   "cell_type": "code",
   "execution_count": null,
   "id": "05eb9ea5",
   "metadata": {},
   "outputs": [],
   "source": [
    "print('Band 58 Center Wavelength = %.2f' %(\n",
    "    pre_fire_metadata['wavelength'][57]),'nm')\n",
    "print('Band 84 Center Wavelength = %.2f' %(\n",
    "    pre_fire_metadata['wavelength'][83]),'nm')\n",
    "print('Band 117 Center Wavelength = %.2f' %(\n",
    "    pre_fire_metadata['wavelength'][116]),'nm')\n",
    "print('Band 400 Center Wavelength = %.2f' %(\n",
    "    pre_fire_metadata['wavelength'][399]),'nm')"
   ]
  },
  {
   "cell_type": "markdown",
   "id": "785562b4",
   "metadata": {},
   "source": [
    "### We will subset and stack these bands in the following order: \n",
    "* Bands 58, 84, 117, 400; or Red, NIR (vegetation index), NIR (burn ratio), SWIR."
   ]
  },
  {
   "cell_type": "code",
   "execution_count": null,
   "id": "9d3cae5f",
   "metadata": {},
   "outputs": [],
   "source": [
    "# Stack and subset bands of interest\n",
    "pre_fire_stack = refl.stack_subset_bands(\n",
    "    pre_fire_refl, pre_fire_metadata, (58, 84, 117, 400))"
   ]
  },
  {
   "cell_type": "code",
   "execution_count": null,
   "id": "db6a2425",
   "metadata": {},
   "outputs": [],
   "source": [
    "post_fire_stack = refl.stack_subset_bands(\n",
    "    post_fire_refl, post_fire_metadata, (58, 84, 117, 400))"
   ]
  },
  {
   "cell_type": "code",
   "execution_count": null,
   "id": "b549d30f",
   "metadata": {},
   "outputs": [],
   "source": [
    "# Plot an example reflectance tile within the fire boundary\n",
    "f, ax = plt.subplots(figsize=(10, 10))\n",
    "\n",
    "# Define raster image\n",
    "plt.imshow(post_fire_refl[:, :, 0], \n",
    "           extent=post_fire_metadata['extent'], \n",
    "           cmap='Greys', \n",
    "           clim=(0, 1200))\n",
    "\n",
    "# Add fire boundary\n",
    "chimney_fire_reproj.boundary.plot(ax=ax, color=\"black\")\n",
    "\n",
    "# Remove scientific notation from tile coordinates\n",
    "ax.ticklabel_format(useOffset=False, style='plain')\n",
    "\n",
    "# Set figure title and label axes\n",
    "ax.set(title='Red Band Reflectance\\n Post-Chimney Tops 2 Fire in October 2017',\n",
    "       xlabel='UTM easting (m)',\n",
    "       ylabel='UTM northing (m)')\n",
    "rotatexlabels = plt.setp(ax.get_xticklabels(), rotation=90)\n",
    "\n",
    "# Data source caption\n",
    "ax.text(.95, .01, \"Data: NEON Airborne Observation Platform\", va='bottom',\n",
    "        ha='right', transform=ax.transAxes, color=\"blue\", fontweight='bold')\n",
    "\n",
    "plt.show()"
   ]
  },
  {
   "cell_type": "markdown",
   "id": "c8883efa",
   "metadata": {},
   "source": [
    "* The vegetation analysis will be conducted on one specific tile. Here is a map showing the location of the tile within the Chimney Tops 2 fire boundary."
   ]
  },
  {
   "cell_type": "markdown",
   "id": "1cdad755",
   "metadata": {},
   "source": [
    "### 1. Normalized Burn Ratio (NBR)\n",
    "* $NBR=\\frac{(NIR-SWIR)}{(NIR+SWIR)}$\n",
    "* The Difference Normalized Burn Ratio (dNBR) is the difference between the pre-fire NBR and the post-fire NBR."
   ]
  },
  {
   "cell_type": "code",
   "execution_count": null,
   "id": "b80d86fd",
   "metadata": {},
   "outputs": [],
   "source": [
    "# Calculate NBR\n",
    "post_fire_nbr = refl.calc_norm_diff(\n",
    "    post_fire_stack[:, :, 2], post_fire_stack[:, :, 3])\n",
    "\n",
    "pre_fire_nbr = refl.calc_norm_diff(\n",
    "    pre_fire_stack[:, :, 2], pre_fire_stack[:, :, 3])\n",
    "\n",
    "# Calculate dNBR\n",
    "dnbr = pre_fire_nbr - post_fire_nbr"
   ]
  },
  {
   "cell_type": "code",
   "execution_count": null,
   "id": "c3487ef9",
   "metadata": {},
   "outputs": [],
   "source": [
    "# Plot dNBR\n",
    "fig, ax = plt.subplots(figsize=(12, 6))\n",
    "\n",
    "plot = ax.imshow(dnbr,\n",
    "                 extent=post_fire_metadata['extent'],\n",
    "                 cmap='PiYG')\n",
    "\n",
    "# Color bar settings\n",
    "cbar = plt.colorbar(plot, aspect=40)\n",
    "cbar.set_label('dNBR', rotation=90, labelpad=20)\n",
    "plot.set_clim(-0.5, 1.1)\n",
    "\n",
    "# Remove scientific notation from tile coordinates\n",
    "ax.ticklabel_format(useOffset=False, style='plain')\n",
    "\n",
    "# Set figure title and axes labels\n",
    "ax.set(title='Chimney Tops 2 Fire dNBR\\n (June 2016-October 2017)',\n",
    "       xlabel='UTM easting (m)',\n",
    "       ylabel='UTM northing (m)')\n",
    "rotatexlabels = plt.setp(ax.get_xticklabels(), rotation=90)\n",
    "\n",
    "# Data source caption\n",
    "ax.text(.95, .01, \"Source: NEON Airborne Observation Platform\", va='bottom',\n",
    "         ha='right', transform=ax.transAxes, color=\"blue\", fontweight=\"bold\")\n",
    "\n",
    "plt.show()"
   ]
  },
  {
   "cell_type": "markdown",
   "id": "0e703890",
   "metadata": {},
   "source": [
    "* The plot of the difference between the pre-post NBR shows significant burned areas still exist almost one-year after the Chimney Tops 2 Fire. Regions above dNBR = 0.1 represent burn areas, whereas regions below dNBR = -0.1 represent regrowth."
   ]
  },
  {
   "cell_type": "markdown",
   "id": "ca19d54f",
   "metadata": {},
   "source": [
    "### 2. Normalized Difference Vegetation Index (NDVI)\n",
    "* $NDVI=\\frac{(NIR-Red)}{(NIR+Red)}$\n",
    "* The difference NDVI is the difference between the post-fire NDVI and the pre-fire NDVI."
   ]
  },
  {
   "cell_type": "code",
   "execution_count": null,
   "id": "d26a0346",
   "metadata": {},
   "outputs": [],
   "source": [
    "# Calculate NDVI using earthpy.spatial normalized_diff() function\n",
    "post_fire_ndvi = refl.calc_norm_diff(\n",
    "    post_fire_stack[:,:,1], post_fire_stack[:,:,0])\n",
    "pre_fire_ndvi = refl.calc_norm_diff(\n",
    "    pre_fire_stack[:,:,1], pre_fire_stack[:,:,0])\n",
    "\n",
    "# Calculate diff NDVI\n",
    "diff_ndvi = post_fire_ndvi - pre_fire_ndvi"
   ]
  },
  {
   "cell_type": "code",
   "execution_count": null,
   "id": "4a8c05e1",
   "metadata": {},
   "outputs": [],
   "source": [
    "# Plot diff NDVI\n",
    "fig, ax = plt.subplots(figsize=(12, 6))\n",
    "\n",
    "plot = ax.imshow(diff_ndvi,\n",
    "                 extent=post_fire_metadata['extent'],\n",
    "                 cmap='PiYG')\n",
    "\n",
    "# Color bar settings\n",
    "cbar = plt.colorbar(plot, aspect=40)\n",
    "cbar.set_label('Diff NDVI', rotation=90, labelpad=20)\n",
    "plot.set_clim(-0.8, 0.6)\n",
    "\n",
    "# Remove scientific notation from tile coordinates\n",
    "ax.ticklabel_format(useOffset=False, style='plain')\n",
    "\n",
    "# Set figure title and axes labels\n",
    "ax.set(title='Chimney Tops 2 Fire Difference NDVI\\n (October 2017-June 2016)',\n",
    "       xlabel='UTM easting (m)',\n",
    "       ylabel='UTM northing (m)')\n",
    "rotatexlabels = plt.setp(ax.get_xticklabels(), rotation=90)\n",
    "\n",
    "# Data source caption\n",
    "ax.text(.95, .01, \"Source: NEON Airborne Observation Platform\", va='bottom',\n",
    "         ha='right', transform=ax.transAxes, color=\"blue\", fontweight=\"bold\")\n",
    "\n",
    "plt.show()"
   ]
  },
  {
   "cell_type": "markdown",
   "id": "7ccbdd54",
   "metadata": {},
   "source": [
    "* The plot of the post-pre NDVI shows remaining loss of greenness almost a year after the Chimney Tops 2 Fire. The most significant loss of vegetation are shown in pink."
   ]
  },
  {
   "cell_type": "markdown",
   "id": "6bcb8db9",
   "metadata": {},
   "source": [
    "### 3. Modified Soil Adjusted Vegetation Index (MSAVI)\n",
    "* The MSAVI equation has been expanded for ease of computation from its original form of\n",
    "$\\frac{2NIR+1-\\sqrt{(2NIR + 1)^{2}-8(NIR-Red)}}{2}$ to $NIR+0.5-0.5\\sqrt{4NIR^{2}-4NIR+8Red+1}$\n",
    "* The difference MSAVI is the difference between the post-fire MSAVI and the pre-fire MSAVI."
   ]
  },
  {
   "cell_type": "code",
   "execution_count": null,
   "id": "f0267f46",
   "metadata": {},
   "outputs": [],
   "source": [
    "# Calculate MSAVI\n",
    "pre_fire_msavi = refl.calc_msavi(\n",
    "    pre_fire_stack[:,:,1], pre_fire_stack[:,:,0])\n",
    "post_fire_msavi = refl.calc_msavi(\n",
    "    post_fire_stack[:,:,1], post_fire_stack[:,:,0])\n",
    "\n",
    "# Calculate diff MSAVI\n",
    "diff_msavi = post_fire_msavi - pre_fire_msavi"
   ]
  },
  {
   "cell_type": "code",
   "execution_count": null,
   "id": "74dc02fb",
   "metadata": {},
   "outputs": [],
   "source": [
    "# Plot diff MSAVI\n",
    "fig, ax = plt.subplots(figsize=(12, 6))\n",
    "\n",
    "plot = plt.imshow(diff_msavi,\n",
    "                  extent=post_fire_metadata['extent'],\n",
    "                  cmap='PiYG')\n",
    "\n",
    "# Color bar settings\n",
    "cbar = plt.colorbar(plot, aspect=40)\n",
    "cbar.set_label('Diff MSAVI', rotation=90, labelpad=20)\n",
    "\n",
    "\n",
    "# Remove scientific notation from tile coordinates\n",
    "ax.ticklabel_format(useOffset=False, style='plain')\n",
    "plot.set_clim(-0.8, 0.6)\n",
    "\n",
    "# Set figure title and axes labels\n",
    "ax.set(title='Chimney Tops 2 Fire Difference MSAVI\\n (October 2017-June 2016)',\n",
    "       xlabel='UTM easting (m)',\n",
    "       ylabel='UTM northing (m)')\n",
    "rotatexlabels = plt.setp(ax.get_xticklabels(), rotation=90)\n",
    "\n",
    "# Data source caption\n",
    "ax.text(.95, .01, \"Source: NEON Airborne Observation Platform\", va='bottom',\n",
    "         ha='right', transform=ax.transAxes, color=\"blue\", fontweight=\"bold\")\n",
    "\n",
    "plt.show()"
   ]
  },
  {
   "cell_type": "markdown",
   "id": "6aa570df",
   "metadata": {},
   "source": [
    "* The difference in post-pre MSAVI plot shows that the Chimney Tops region is still showing vegetation recovery within one year after the fire. MSAVI takes into account the soil-noise background. Upon comparison with the difference NDVI, the difference MSAVI plot suggests that the vegetation regrowth is small, since the soil-noise background is significant."
   ]
  },
  {
   "cell_type": "code",
   "execution_count": null,
   "id": "0db72018",
   "metadata": {},
   "outputs": [],
   "source": [
    "# Plot diff NDVI and diff MSAVI together\n",
    "fig, (ax1, ax2) = plt.subplots(1, 2, figsize=(12, 6))\n",
    "\n",
    "plot1 = ax1.imshow(diff_ndvi,\n",
    "                  extent=post_fire_metadata['extent'],\n",
    "                  cmap='PiYG')\n",
    "\n",
    "plot2 = ax2.imshow(diff_msavi,\n",
    "                  extent=post_fire_metadata['extent'],\n",
    "                  cmap='PiYG')\n",
    "\n",
    "# Color bar settings\n",
    "cbr = ep.colorbar(plot1)\n",
    "cbar = ep.colorbar(plot2)\n",
    "cbar.set_label('Diff Vegetation Index', rotation=90, labelpad=20)\n",
    "\n",
    "# Remove scientific notation from tile coordinates\n",
    "ax1.ticklabel_format(useOffset=False, style='plain')\n",
    "ax2.ticklabel_format(useOffset=False, style='plain')\n",
    "\n",
    "# Set figure title and axes labels\n",
    "fig.suptitle(\n",
    "    \"Comparison of NDVI & MSAVI for Post-Pre Chimney Tops 2 Fire\", fontsize=16)\n",
    "ax1.set(title='Difference NDVI\\n (October 2017-June 2016)',\n",
    "        xlabel='UTM easting (m)',\n",
    "        ylabel='UTM northing (m)')\n",
    "rotatexlabels = plt.setp(ax1.get_xticklabels(), rotation=90)\n",
    "ax2.set(title='Difference MSAVI\\n (October 2017-June 2016)',\n",
    "        xlabel='UTM easting (m)')\n",
    "rotatexlabels = plt.setp(ax2.get_xticklabels(), rotation=90)\n",
    "\n",
    "# Data source caption\n",
    "ax1.text(.95, .01, \"Source: NEON Airborne Observation Platform\", va='bottom',\n",
    "         ha='right', transform=ax1.transAxes, color=\"blue\", fontweight=\"bold\")\n",
    "ax2.text(.95, .01, \"Source: NEON Airborne Observation Platform\", va='bottom',\n",
    "         ha='right', transform=ax2.transAxes, color=\"blue\", fontweight=\"bold\")\n",
    "\n",
    "fig.tight_layout()\n",
    "plt.show()"
   ]
  },
  {
   "cell_type": "code",
   "execution_count": null,
   "id": "f639e9ba",
   "metadata": {},
   "outputs": [],
   "source": []
  }
 ],
 "metadata": {
  "kernelspec": {
   "display_name": "Python 3 (ipykernel)",
   "language": "python",
   "name": "python3"
  },
  "language_info": {
   "codemirror_mode": {
    "name": "ipython",
    "version": 3
   },
   "file_extension": ".py",
   "mimetype": "text/x-python",
   "name": "python",
   "nbconvert_exporter": "python",
   "pygments_lexer": "ipython3",
   "version": "3.8.13"
  }
 },
 "nbformat": 4,
 "nbformat_minor": 5
}
