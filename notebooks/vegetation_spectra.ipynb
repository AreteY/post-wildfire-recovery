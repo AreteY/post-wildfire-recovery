{
 "cells": [
  {
   "cell_type": "markdown",
   "id": "075c23f6",
   "metadata": {},
   "source": [
    "# Post-wildfire Vegetation Recovery\n",
    "## In this Jupyter notebook, we find the reflectance spectra for all of the subplots of plot 55. \n",
    "### For each subplot: \n",
    "* we find the pixel coordinates that correspond to the UTM coordinates of the subplot,\n",
    "* we clean the data for water absorption and noisy data,\n",
    "* and we plot the reflectance spectrum.\n",
    "\n",
    "Author: Heidi Yoon"
   ]
  },
  {
   "cell_type": "code",
   "execution_count": null,
   "id": "3c7a145a",
   "metadata": {},
   "outputs": [],
   "source": [
    "import os\n",
    "import sys\n",
    "import warnings\n",
    "\n",
    "import matplotlib.pyplot as plt\n",
    "import numpy as np\n",
    "import pandas as pd\n",
    "import requests\n",
    "import h5py\n",
    "import earthpy as et\n",
    "\n",
    "# Ignore any warnings\n",
    "warnings.filterwarnings('ignore')\n",
    "\n",
    "# Check module path\n",
    "project_path = os.path.abspath(os.path.join('..'))\n",
    "if project_path not in sys.path:\n",
    "    sys.path.append(project_path)\n",
    "    \n",
    "import modules.reflectance as refl"
   ]
  },
  {
   "cell_type": "code",
   "execution_count": null,
   "id": "5ca044de",
   "metadata": {},
   "outputs": [],
   "source": [
    "# Get NEON reflectance data from NEON API\n",
    "# Endpoints are data product, site, date, and release year\n",
    "neon_base = \"https://data.neonscience.org/api/v0/data\"\n",
    "data_product = \"/DP3.30006.001\"\n",
    "site = \"/GRSM\"\n",
    "post_fire_release = \"/2017-10?package=basic&release=RELEASE-2022\"\n",
    "post_fire_url = neon_base + data_product + site + post_fire_release\n",
    "post_fire_data = requests.get(post_fire_url)\n",
    "\n",
    "# Similarly for the pre-fire data\n",
    "pre_fire_release = \"/2016-06?package=basic&release=RELEASE-2022\"\n",
    "pre_fire_url = neon_base + data_product + site + pre_fire_release\n",
    "pre_fire_data = requests.get(pre_fire_url)"
   ]
  },
  {
   "cell_type": "code",
   "execution_count": null,
   "id": "076415ec",
   "metadata": {},
   "outputs": [],
   "source": [
    "# Using API response, find the url corresponding to tile of interest\n",
    "post_fire_df = pd.json_normalize(post_fire_data.json()['data']['files'])\n",
    "pre_fire_df = pd.json_normalize(pre_fire_data.json()['data']['files'])"
   ]
  },
  {
   "cell_type": "code",
   "execution_count": null,
   "id": "1f501d8b",
   "metadata": {},
   "outputs": [],
   "source": [
    "# Define data directory and data paths\n",
    "data_dir = os.path.join(project_path, 'data')\n",
    "post_data_path = os.path.join(\n",
    "    data_dir, 'NEON_GRSM_273000_3951000_201710_reflectance.h5')\n",
    "pre_data_path = os.path.join(\n",
    "    data_dir, 'NEON_GRSM_273000_3951000_201606_reflectance.h5')\n",
    "\n",
    "# Check if data directory exists\n",
    "try:\n",
    "    os.makedirs(data_dir)\n",
    "    print('The data directory has been created!')\n",
    "except FileExistsError:\n",
    "    print('The data directory already exists!')"
   ]
  },
  {
   "cell_type": "code",
   "execution_count": null,
   "id": "2c48f7f1",
   "metadata": {},
   "outputs": [],
   "source": [
    "# Need tile 273000_3951000 for plot 55\n",
    "# Get NEON reflectance data\n",
    "postfire_h5 = 'NEON_D07_GRSM_DP3_273000_3951000_reflectance.h5'\n",
    "prefire_h5 = 'NEON_D07_GRSM_DP3_273000_3951000_reflectance.h5'\n",
    "\n",
    "post_fire_url = post_fire_df[post_fire_df['name'] == postfire_h5]['url'].iloc[0]\n",
    "pre_fire_url = pre_fire_df[pre_fire_df['name'] == prefire_h5]['url'].iloc[0]\n",
    "\n",
    "post_data = refl.download_file(post_data_path, post_fire_url)\n",
    "pre_data = refl.download_file(pre_data_path, pre_fire_url)"
   ]
  },
  {
   "cell_type": "code",
   "execution_count": null,
   "id": "ae58eab7",
   "metadata": {},
   "outputs": [],
   "source": [
    "# Open NEON data and store reflectance array and metadata\n",
    "post_fire_refl, post_fire_metadata = refl.aop_h5refl2array(post_data_path)\n",
    "pre_fire_refl, pre_fire_metadata = refl.aop_h5refl2array(pre_data_path)"
   ]
  },
  {
   "cell_type": "markdown",
   "id": "742e31ce",
   "metadata": {},
   "source": [
    "### We would like to find pixel_x and pixel_y that correspond to the UTM coordinates. UTM easting corresponds to x, and UTM northing corresponds to y. In pixel space, the origin (0, 0) is located in the upper left corner of the raster. In UTM coordinates, the origin of the tile of interest (273000, 3951000) is located in the lower left corner of the raster. By these definitions, the following relations follow:\n",
    "* pixel_x = (east_coordinate) - (east_origin)\n",
    "* pixel_y = (north_origin) - (north_coordinate)"
   ]
  },
  {
   "cell_type": "markdown",
   "id": "1347a105",
   "metadata": {},
   "source": [
    "### Given the UTM coordinates of all of the subplots of Plot 55 (see `vegetation_subplots.ipynb`), we can plot each reflectance spectrum for a given (pixel_y, pixel_x) for all wavelengths."
   ]
  },
  {
   "cell_type": "code",
   "execution_count": null,
   "id": "0c9ecd2e",
   "metadata": {},
   "outputs": [],
   "source": [
    "# Open dataframe with all the UTM coordinates for the subplots\n",
    "grsm_plots_path = os.path.join(\n",
    "    project_path, 'outputs', 'grsm_plots_coords.csv')\n",
    "plots_df = pd.read_csv(grsm_plots_path)\n",
    "plots_df[plots_df['name']=='GRSM_055.basePlot.div.40.1.1']"
   ]
  },
  {
   "cell_type": "markdown",
   "id": "9951799e",
   "metadata": {},
   "source": [
    "### As an example, let's consider subplot 40.1.1 located at (273554, 3951956). Using the UTM coordinates, we can calculate the corresponding (pixel_y, pixel_x) as (554, 44)."
   ]
  },
  {
   "cell_type": "code",
   "execution_count": null,
   "id": "f10d65f7",
   "metadata": {},
   "outputs": [],
   "source": [
    "grsm_4011_df = pd.DataFrame()\n",
    "grsm_4011_df['reflectance'] = post_fire_refl[554,44,:]\n",
    "grsm_4011_df['wavelength'] = post_fire_metadata['wavelength']"
   ]
  },
  {
   "cell_type": "markdown",
   "id": "cae6ffd6",
   "metadata": {},
   "source": [
    "### We can plot the reflectance spectrum for subplot 40.1.1 below. Note that red dotted lines denote regions where we need to correct for water absorption. We will clean the data in these regions and the last 10 points, which are typically noisy, with NaN values below."
   ]
  },
  {
   "cell_type": "code",
   "execution_count": null,
   "id": "a49e2e42",
   "metadata": {},
   "outputs": [],
   "source": [
    "# Define plot space\n",
    "fig, ax = plt.subplots(figsize=(10, 6))\n",
    "\n",
    "# Define x and y axes\n",
    "ax.scatter(grsm_4011_df.wavelength,\n",
    "           grsm_4011_df.reflectance,\n",
    "           color='blue',\n",
    "           label='Subplot 40.1.1')\n",
    "\n",
    "# Set plot title and axes labels\n",
    "ax.set(title = \"Spectral Signature for GRSM Plot 55 Subplot 40.1.1\",\n",
    "       xlabel = \"Wavelength, nm\",\n",
    "       ylabel = \"Reflectance\")\n",
    "ax.set(ylim=[0, 5000])\n",
    "\n",
    "ax.legend(loc='upper right')\n",
    "\n",
    "#Add in red dotted lines to show boundaries of bad band windows:\n",
    "ax.plot((1340,1340),(0,15000), 'r--')\n",
    "ax.plot((1445,1445),(0,15000), 'r--')\n",
    "ax.plot((1790,1790),(0,15000), 'r--')\n",
    "ax.plot((1955,1955),(0,15000), 'r--')\n",
    "\n",
    "plt.show()"
   ]
  },
  {
   "cell_type": "code",
   "execution_count": null,
   "id": "9eddcd29",
   "metadata": {},
   "outputs": [],
   "source": [
    "# Clean reflectance spectrum\n",
    "refl.clean_refl_spectrum(grsm_4011_df['wavelength'])"
   ]
  },
  {
   "cell_type": "markdown",
   "id": "f36511b1",
   "metadata": {},
   "source": [
    "### We can plot the spectrum for subplot 40.1.1 again to confirm that we have cleaned the data."
   ]
  },
  {
   "cell_type": "code",
   "execution_count": null,
   "id": "d8fdbd59",
   "metadata": {},
   "outputs": [],
   "source": [
    "# Define plot space\n",
    "fig, ax = plt.subplots(figsize=(10, 6))\n",
    "\n",
    "# Define x and y axes\n",
    "ax.scatter(grsm_4011_df.wavelength,\n",
    "           grsm_4011_df.reflectance,\n",
    "           color='blue',\n",
    "           label='Subplot 40.1.1')\n",
    "\n",
    "# Set plot title and axes labels\n",
    "ax.set(title = \"Spectral Signature for GRSM Plot 55 Subplot 40.1.1\",\n",
    "       xlabel = \"Wavelength, nm\",\n",
    "       ylabel = \"Reflectance\")\n",
    "ax.set(ylim=[0, 5000])\n",
    "\n",
    "ax.legend(loc='upper right')\n",
    "\n",
    "plt.show()"
   ]
  },
  {
   "cell_type": "markdown",
   "id": "3227dacd",
   "metadata": {},
   "source": [
    "### We can do the similar analysis for the other subplots in Plot 55."
   ]
  },
  {
   "cell_type": "code",
   "execution_count": null,
   "id": "f8b60d1c",
   "metadata": {},
   "outputs": [],
   "source": [
    "grsm_4031_df = pd.DataFrame()\n",
    "grsm_4031_df['reflectance'] = post_fire_refl[554,35,:]\n",
    "grsm_4031_df['wavelength'] = post_fire_metadata['wavelength']\n",
    "refl.clean_refl_spectrum(grsm_4031_df['wavelength'])"
   ]
  },
  {
   "cell_type": "code",
   "execution_count": null,
   "id": "6bddf02f",
   "metadata": {},
   "outputs": [],
   "source": [
    "grsm_4111_df = pd.DataFrame()\n",
    "grsm_4111_df['reflectance'] = post_fire_refl[565,45,:]\n",
    "grsm_4111_df['wavelength'] = post_fire_metadata['wavelength']\n",
    "refl.clean_refl_spectrum(grsm_4111_df['wavelength'])"
   ]
  },
  {
   "cell_type": "code",
   "execution_count": null,
   "id": "1ccb7898",
   "metadata": {},
   "outputs": [],
   "source": [
    "grsm_4141_df = pd.DataFrame()\n",
    "grsm_4141_df['reflectance'] = post_fire_refl[573,36,:]\n",
    "grsm_4141_df['wavelength'] = post_fire_metadata['wavelength']\n",
    "refl.clean_refl_spectrum(grsm_4141_df['wavelength'])"
   ]
  },
  {
   "cell_type": "code",
   "execution_count": null,
   "id": "2ca1b7a6",
   "metadata": {},
   "outputs": [],
   "source": [
    "grsm_3111_df = pd.DataFrame()\n",
    "grsm_3111_df['reflectance'] = post_fire_refl[553,55,:]\n",
    "grsm_3111_df['wavelength'] = post_fire_metadata['wavelength']\n",
    "refl.clean_refl_spectrum(grsm_3111_df['wavelength'])"
   ]
  },
  {
   "cell_type": "code",
   "execution_count": null,
   "id": "9f44389d",
   "metadata": {},
   "outputs": [],
   "source": [
    "grsm_3141_df = pd.DataFrame()\n",
    "grsm_3141_df['reflectance'] = post_fire_refl[564,46,:]\n",
    "grsm_3141_df['wavelength'] = post_fire_metadata['wavelength']\n",
    "refl.clean_refl_spectrum(grsm_3141_df['wavelength'])"
   ]
  },
  {
   "cell_type": "code",
   "execution_count": null,
   "id": "c47cb8fe",
   "metadata": {},
   "outputs": [],
   "source": [
    "grsm_3221_df = pd.DataFrame()\n",
    "grsm_3221_df['reflectance'] = post_fire_refl[572,55,:]\n",
    "grsm_3221_df['wavelength'] = post_fire_metadata['wavelength']\n",
    "refl.clean_refl_spectrum(grsm_3221_df['wavelength'])"
   ]
  },
  {
   "cell_type": "code",
   "execution_count": null,
   "id": "1cb2aae2",
   "metadata": {},
   "outputs": [],
   "source": [
    "grsm_3241_df = pd.DataFrame()\n",
    "grsm_3241_df['reflectance'] = post_fire_refl[572,46,:]\n",
    "grsm_3241_df['wavelength'] = post_fire_metadata['wavelength']\n",
    "refl.clean_refl_spectrum(grsm_3241_df['wavelength'])"
   ]
  },
  {
   "cell_type": "markdown",
   "id": "acb7bbda",
   "metadata": {},
   "source": [
    "### We can summarize our results by plotting the left-most subplots, then the right-most subplots, and lastly the middle subplots."
   ]
  },
  {
   "cell_type": "code",
   "execution_count": null,
   "id": "14ba177b",
   "metadata": {},
   "outputs": [],
   "source": [
    "# Define plot space\n",
    "fig, ax = plt.subplots(figsize=(10, 6))\n",
    "\n",
    "# Define x and y axes\n",
    "ax.scatter(grsm_4011_df.wavelength,\n",
    "           grsm_4011_df.reflectance,\n",
    "           color='blue',\n",
    "           label='Subplot 40.1.1')\n",
    "ax.scatter(grsm_4031_df.wavelength,\n",
    "           grsm_4031_df.reflectance,\n",
    "           color='purple',\n",
    "           label='Subplot 40.3.1')\n",
    "ax.scatter(grsm_3111_df.wavelength,\n",
    "           grsm_3111_df.reflectance,\n",
    "           color='green',\n",
    "           label='Subplot 31.1.1')\n",
    "\n",
    "# Set plot title and axes labels\n",
    "ax.set(title = \"Spectral Signature for GRSM Plot 55\",\n",
    "       xlabel = \"Wavelength, nm\",\n",
    "       ylabel = \"Reflectance\")\n",
    "ax.set(ylim=[0, 5000])\n",
    "\n",
    "ax.legend(loc='upper right')\n",
    "\n",
    "plt.show()"
   ]
  },
  {
   "cell_type": "code",
   "execution_count": null,
   "id": "c6058974",
   "metadata": {},
   "outputs": [],
   "source": [
    "# Define plot space\n",
    "fig, ax = plt.subplots(figsize=(10, 6))\n",
    "\n",
    "# Define x and y axes\n",
    "ax.scatter(grsm_4141_df.wavelength,\n",
    "           grsm_4141_df.reflectance,\n",
    "           color='blue',\n",
    "           label='Subplot 41.4.1')\n",
    "ax.scatter(grsm_3241_df.wavelength,\n",
    "           grsm_3241_df.reflectance,\n",
    "           color='purple',\n",
    "           label='Subplot 32.4.1')\n",
    "ax.scatter(grsm_3221_df.wavelength,\n",
    "           grsm_3221_df.reflectance,\n",
    "           color='green',\n",
    "           label='Subplot 32.2.1')\n",
    "\n",
    "# Set plot title and axes labels\n",
    "ax.set(title = \"Spectral Signature for GRSM Plot 55\",\n",
    "       xlabel = \"Wavelength, nm\",\n",
    "       ylabel = \"Reflectance\")\n",
    "ax.set(ylim=[0, 5000])\n",
    "\n",
    "ax.legend(loc='upper right')\n",
    "\n",
    "plt.show()"
   ]
  },
  {
   "cell_type": "code",
   "execution_count": null,
   "id": "930e3aa2",
   "metadata": {},
   "outputs": [],
   "source": [
    "# Define plot space\n",
    "fig, ax = plt.subplots(figsize=(10, 6))\n",
    "\n",
    "# Define x and y axes\n",
    "ax.scatter(grsm_3141_df.wavelength,\n",
    "           grsm_3141_df.reflectance,\n",
    "           color='blue',\n",
    "           label='31.4.1')\n",
    "ax.scatter(grsm_4111_df.wavelength,\n",
    "           grsm_4111_df.reflectance,\n",
    "           color='purple',\n",
    "           label='41.1.1')\n",
    "\n",
    "# Set plot title and axes labels\n",
    "ax.set(title = \"Spectral Signature for GRSM Plot 55\",\n",
    "       xlabel = \"Wavelength, nm\",\n",
    "       ylabel = \"Reflectance\")\n",
    "ax.set(ylim=[0, 5000])\n",
    "\n",
    "ax.legend(loc='upper right')\n",
    "\n",
    "plt.show()"
   ]
  },
  {
   "cell_type": "code",
   "execution_count": null,
   "id": "0dcb87ee",
   "metadata": {},
   "outputs": [],
   "source": []
  }
 ],
 "metadata": {
  "kernelspec": {
   "display_name": "Python 3 (ipykernel)",
   "language": "python",
   "name": "python3"
  },
  "language_info": {
   "codemirror_mode": {
    "name": "ipython",
    "version": 3
   },
   "file_extension": ".py",
   "mimetype": "text/x-python",
   "name": "python",
   "nbconvert_exporter": "python",
   "pygments_lexer": "ipython3",
   "version": "3.8.13"
  }
 },
 "nbformat": 4,
 "nbformat_minor": 5
}
