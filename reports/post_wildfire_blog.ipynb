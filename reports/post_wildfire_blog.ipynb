{
 "cells": [
  {
   "cell_type": "markdown",
   "id": "15b78fca",
   "metadata": {},
   "source": [
    "# After the Burn: Mapping Vegetation Regrowth After the Chimney Tops 2 Fire in Great Smoky Mountains National Park\n",
    "Author: Heidi Yoon"
   ]
  },
  {
   "cell_type": "code",
   "execution_count": null,
   "id": "ffdd1767",
   "metadata": {},
   "outputs": [],
   "source": [
    "# Import packages\n",
    "import io\n",
    "import os\n",
    "from glob import glob\n",
    "import sys\n",
    "import zipfile\n",
    "\n",
    "import matplotlib.pyplot as plt\n",
    "import numpy as np\n",
    "import pandas as pd\n",
    "import requests\n",
    "import folium\n",
    "import h5py\n",
    "import rioxarray as rxr\n",
    "from rasterio.plot import plotting_extent\n",
    "import xarray as xr\n",
    "import geopandas as gpd\n",
    "import earthpy as et\n",
    "import earthpy.plot as ep\n",
    "import earthpy.mask as em\n",
    "\n",
    "# Check module path\n",
    "project_path = os.path.abspath(os.path.join('..'))\n",
    "if project_path not in sys.path:\n",
    "    sys.path.append(project_path)\n",
    "    \n",
    "import modules.reflectance as refl\n",
    "import modules.landsat as landsat"
   ]
  },
  {
   "cell_type": "code",
   "execution_count": null,
   "id": "a45b2a55",
   "metadata": {},
   "outputs": [],
   "source": [
    "# Get NEON reflectance data from NEON API\n",
    "# Endpoints are data product, site, date, and release year\n",
    "neon_base = \"https://data.neonscience.org/api/v0/data\"\n",
    "data_product = \"/DP3.30006.001\"\n",
    "site = \"/GRSM\"\n",
    "post_fire_release = \"/2017-10?package=basic&release=RELEASE-2022\"\n",
    "post_fire_url = neon_base + data_product + site + post_fire_release\n",
    "post_fire_data = requests.get(post_fire_url)\n",
    "\n",
    "# Similarly for the pre-fire data\n",
    "pre_fire_release = \"/2016-06?package=basic&release=RELEASE-2022\"\n",
    "pre_fire_url = neon_base + data_product + site + pre_fire_release\n",
    "pre_fire_data = requests.get(pre_fire_url)"
   ]
  },
  {
   "cell_type": "code",
   "execution_count": null,
   "id": "4c2db184",
   "metadata": {},
   "outputs": [],
   "source": [
    "# Using API response, find the url corresponding to tile of interest\n",
    "post_fire_df = pd.json_normalize(post_fire_data.json()['data']['files'])\n",
    "pre_fire_df = pd.json_normalize(pre_fire_data.json()['data']['files'])"
   ]
  },
  {
   "cell_type": "code",
   "execution_count": null,
   "id": "84a6aafc",
   "metadata": {},
   "outputs": [],
   "source": [
    "# Get NEON reflectance data\n",
    "post_fire_url = post_fire_df[post_fire_df['name']=='NEON_D07_GRSM_DP3_274000_3947000_reflectance.h5']['url'].iloc[0]\n",
    "pre_fire_url = pre_fire_df[pre_fire_df['name']=='NEON_D07_GRSM_DP3_274000_3947000_reflectance.h5']['url'].iloc[0]\n",
    "\n",
    "# Define data directory and data paths\n",
    "data_dir = os.path.join(et.io.HOME, 'earth-analytics', 'ea-2022-capstone-project', 'data')\n",
    "post_data_path = os.path.join(\n",
    "    data_dir, 'NEON_GRSM_274000_3947000_201710_reflectance.h5')\n",
    "pre_data_path = os.path.join(\n",
    "    data_dir, 'NEON_GRSM_274000_3947000_201606_reflectance.h5')\n",
    "\n",
    "post_data = refl.download_file(post_data_path, post_fire_url)\n",
    "pre_data = refl.download_file(pre_data_path, pre_fire_url)"
   ]
  },
  {
   "cell_type": "code",
   "execution_count": null,
   "id": "3c029e60",
   "metadata": {},
   "outputs": [],
   "source": [
    "# Get MTBS fire boundary\n",
    "fire_bound_url = ('https://github.com/AreteY/post-wildfire-vegetation-change/files/8567790/chimtops2_burn_bndy.zip')\n",
    "fire_bound_data = et.data.get_data(url=fire_bound_url)\n",
    "\n",
    "# Set working directory\n",
    "os.chdir(os.path.join(\n",
    "    et.io.HOME, 'earth-analytics', 'data'))\n",
    "\n",
    "chimney_fire_path = os.path.join('earthpy-downloads', 'chimtops2_burn_bndy', 'chimtops2_burn_bndy.shp')\n",
    "\n",
    "# Open fire and grsm boundary and reproject crs\n",
    "chimney_fire_bound = gpd.read_file(chimney_fire_path)\n",
    "chimney_fire_reproj = chimney_fire_bound.to_crs(epsg=32617)"
   ]
  },
  {
   "cell_type": "markdown",
   "id": "c802bd8f",
   "metadata": {},
   "source": [
    "#### Figure 1: Map of the Great Smoky Mountains National Park. "
   ]
  },
  {
   "cell_type": "code",
   "execution_count": null,
   "id": "c894f1ba",
   "metadata": {
    "scrolled": false
   },
   "outputs": [],
   "source": [
    "# Create dynamic map of the Great Smoky Mountains National Park\n",
    "# With areas of interest pertaining to the fire\n",
    "# Define dataframe with aoi coordinates\n",
    "fire_aoi_df = pd.DataFrame(columns=[\"name\", \"latitude\", \"longitude\"],\n",
    "                           data=[[\"Chimney Tops Mtn\", 35.630653, -83.478226],\n",
    "                                 [\"Gatlinburg, TN\", 35.714167, -83.510278],\n",
    "                                 [\"Pigeon Forge, TN\", 35.793889, -83.564167]])\n",
    "\n",
    "fire_map = folium.Map([35.63, -83.48],\n",
    "                      zoom_start=10)\n",
    "\n",
    "style = {'fillColor': '#982E40', 'color': '#982E40'} \n",
    "folium.GeoJson(data=chimney_fire_bound['geometry'],\n",
    "               style_function = lambda x: style).add_to(fire_map)\n",
    "\n",
    "# Add markers for Chimney Tops Fire 2 areas of interest\n",
    "for name, xy in fire_aoi_df.groupby([\"name\"]):\n",
    "    folium.Marker(\n",
    "        location=[xy.latitude, xy.longitude],\n",
    "        popup=name,\n",
    "        icon=folium.Icon()\n",
    "    ).add_to(fire_map)\n",
    "\n",
    "fire_map"
   ]
  },
  {
   "cell_type": "markdown",
   "id": "ebe9363b",
   "metadata": {},
   "source": [
    "#### Figure 1 Caption:\n",
    "From bottom to top, the markers denote: \n",
    "* Chimney Tops Mountain\n",
    "* Gatlinburg, Tennessee \n",
    "* Pigeon Forge, Tennessee.\n",
    "\n",
    "The Chimney Tops 2 Fire began at Chimney Tops Mountain on November 23, 2016 and later headed northwest towards Gatlinburg and Pigeon Forge, Tennessee."
   ]
  },
  {
   "cell_type": "markdown",
   "id": "9a0489b4",
   "metadata": {},
   "source": [
    "## 2016 Chimney Tops 2 Fire\n",
    "The [Chimney Tops 2 Fire](https://www.nps.gov/grsm/learn/chimney-tops-2-fire.htm) began in late November in 2016 on Chimney Tops Mountain in Great Smoky Mountains National Park, as shown in Figure 1. Initially, the Chimney Tops 2 Fire was contained within a 400-acre zone for several days. However, due to unseasonably dry and windy conditions, the fire escaped and grew several orders of magnitude in one day! Figure 2 shows the [progression of the fire](https://www.wildfirelessons.net/HigherLogic/System/DownloadDocumentFile.ashx?DocumentFileKey=14eb7c82-02ef-9410-301c-33e967bf8f31&forceDialog=0) and how it grew from 75 to 15,000 acres on November 28. After this day, the Chimney Tops 2 Fire joined other fires in Sevier County (see Fig. 1) and burned until December 22, 2016. [At least 14 people lost their lives, and over 1600 buildings were damaged or destroyed](https://www.cnn.com/2016/12/05/us/tennessee-gatlinburg-wildfires/index.html). Wildfires, such as the Chimney Tops 2 Fire, have become more frequent and more intense. To protect our forests and human communities, we need to understand the effects of fire on our forests."
   ]
  },
  {
   "cell_type": "markdown",
   "id": "2c64f99e",
   "metadata": {},
   "source": [
    "#### Figure 2: Chimney Tops 2 Fire Progression\n",
    "![Figure 2](https://raw.githubusercontent.com/AreteY/post-wildfire-recovery/main/graphics/fire_progression.png)\n",
    "* [Fire progression](https://www.wildfirelessons.net/HigherLogic/System/DownloadDocumentFile.ashx?DocumentFileKey=14eb7c82-02ef-9410-301c-33e967bf8f31&forceDialog=0) by acres burned (upper plot) and weather conditions (lower plot) with inset corresponding to the total burned area."
   ]
  },
  {
   "cell_type": "markdown",
   "id": "fcd0f293",
   "metadata": {},
   "source": [
    "## Determining the severity of a fire can help managers make better decisions\n",
    "Determining the severity of a fire can help us understand how the forest will recover and if the fire is likely to happen again. [Fires that burn along the ground are classified as low severity fires, whereas fires that climb up into the canopy and kill most of the trees are classified as high severity fires](https://eos.org/features/a-lidars-eye-view-of-how-forests-are-faring). Recent or regular fires can [change the structure of a forest](http://dx.doi.org/10.1016/j.foreco.2014.10.038) to make the forest more resilient to future fires. Characterizing the burn severity will help forest and fire managers to make better decisions regarding fire."
   ]
  },
  {
   "cell_type": "markdown",
   "id": "77b38136",
   "metadata": {},
   "source": [
    "## Studying fires remotely will allow us to study more fires with greater coverage and efficiency\n",
    "Scientists have studied the impact of fires by observing the forest floor directly. For example, [Meng et al. 2017](https://www.sciencedirect.com/science/article/pii/S0034425717300159?via%3Dihub) identified and characterized trees, vegetation, and their health in small plots within the burn perimeter of the Crescent Bow Fire. Fieldwork of this kind is time and labor intensive, especially when fires can burn large areas. [Within the national park, the Chimney Tops 2 Fire burned about 11,000 acres](https://www.nps.gov/grsm/learn/chimney-tops-2-fire.htm)! It would be an enormous undertaking for a team to study the entire burned area!\n",
    "\n",
    "As fires have grown in size and severity, there is a greater need to study more fires. One such way is to use remote sensing technologies to study fires from the air or from space. Remote sensing technologies can provide more land area coverage and more frequent measurements to study fires efficiently."
   ]
  },
  {
   "cell_type": "markdown",
   "id": "5c73e2d9",
   "metadata": {},
   "source": [
    "## Our Study\n",
    "We compare reflectance data measured by the Operational Land Imager on the [Landsat 8](https://www.usgs.gov/landsat-missions/landsat-8) satellite with those from the [NEON Imaging Spectrometer](https://data.neonscience.org/data-products/DP3.30006.001) on an airplane. Although the NEON spectrometer has high spatial resolution (1-meter), the reflectance data is typically only available once a year. Although the Landsat 8 imager has lower spatial resolution (30-meter), Landsat 8 orbits the earth every 16 days, so there is more data available."
   ]
  },
  {
   "cell_type": "markdown",
   "id": "d60a99e8",
   "metadata": {},
   "source": [
    "Here is a map of the Chimney Tops 2 Fire Boundary (Figure 3). For our analysis, we will look at one 1-km<sup>2</sup> tile within the burned area using data collected from the air by the NEON Spectrometer and with data collected from space by the Landsat 8 Imager."
   ]
  },
  {
   "cell_type": "code",
   "execution_count": null,
   "id": "00661d07",
   "metadata": {},
   "outputs": [],
   "source": [
    "# Open NEON data and store reflectance array and metadata\n",
    "post_fire_refl, post_fire_metadata = refl.aop_h5refl2array(post_data_path)\n",
    "pre_fire_refl, pre_fire_metadata = refl.aop_h5refl2array(pre_data_path)"
   ]
  },
  {
   "cell_type": "code",
   "execution_count": null,
   "id": "59c22508",
   "metadata": {},
   "outputs": [],
   "source": [
    "# Stack and subset bands of interest\n",
    "pre_fire_stack = refl.stack_subset_bands(\n",
    "    pre_fire_refl, pre_fire_metadata, (58, 84, 117, 400))"
   ]
  },
  {
   "cell_type": "code",
   "execution_count": null,
   "id": "0ef3d1d2",
   "metadata": {},
   "outputs": [],
   "source": [
    "post_fire_stack = refl.stack_subset_bands(\n",
    "    post_fire_refl, post_fire_metadata, (58, 84, 117, 400))"
   ]
  },
  {
   "cell_type": "markdown",
   "id": "027004cf",
   "metadata": {},
   "source": [
    "#### Figure 3: Map of the Chimney Tops 2 Fire Boundary with Sample NEON Data"
   ]
  },
  {
   "cell_type": "code",
   "execution_count": null,
   "id": "f22a175b",
   "metadata": {},
   "outputs": [],
   "source": [
    "# Plot an example reflectance tile within the fire boundary\n",
    "f, ax = plt.subplots(figsize=(10, 10))\n",
    "\n",
    "# Define raster image\n",
    "plt.imshow(post_fire_refl[:, :, 0], \n",
    "           extent=post_fire_metadata['extent'], \n",
    "           cmap='Greys', \n",
    "           clim=(0, 1200))\n",
    "\n",
    "# Add fire boundary\n",
    "chimney_fire_reproj.boundary.plot(ax=ax, color=\"black\")\n",
    "\n",
    "# Remove scientific notation from tile coordinates\n",
    "ax.ticklabel_format(useOffset=False, style='plain')\n",
    "\n",
    "# Set figure title and label axes\n",
    "ax.set(xlabel='UTM easting (m)',\n",
    "       ylabel='UTM northing (m)')\n",
    "rotatexlabels = plt.setp(ax.get_xticklabels(), rotation=90)\n",
    "\n",
    "# Data source caption\n",
    "ax.text(.95, .01, \"Data: NEON Airborne Observation Platform\", va='bottom', ha='right', \n",
    "        transform=ax.transAxes, color=\"blue\", fontweight='bold')\n",
    "\n",
    "plt.show()"
   ]
  },
  {
   "cell_type": "markdown",
   "id": "b0f45dfd",
   "metadata": {},
   "source": [
    "#### Figure 3 Caption:\n",
    "Chimney Tops 2 Fire Boundary ([MTBS Project](https://mtbs.gov/direct-download)) within Great Smoky Mountains National Park with Sample Data Observed by the [NEON spectrometer](https://data.neonscience.org/data-products/DP1.30006.001)."
   ]
  },
  {
   "cell_type": "markdown",
   "id": "995ffd45",
   "metadata": {},
   "source": [
    "## dNBR identifies healthy and burned vegetation\n",
    "We can calculate the difference normalized burn ratio, or dNBR, to identify healthy vs burned vegetation before and after the fire using Landsat and NEON data."
   ]
  },
  {
   "cell_type": "markdown",
   "id": "9e919cc4",
   "metadata": {},
   "source": [
    "#### Figure 4: Difference Normalized Burn Ratio of Landsat Reflectance for the Chimney Tops 2 Fire"
   ]
  },
  {
   "cell_type": "code",
   "execution_count": null,
   "id": "019cabc9",
   "metadata": {},
   "outputs": [],
   "source": [
    "all_landsat_bands = sorted(glob(\n",
    "    os.path.join('landsat-20170412', '*B[2-7].TIF')))\n",
    "all_post_fire_bands = sorted(glob(\n",
    "    os.path.join('landsat-20171005', '*B[2-7].TIF')))\n",
    "all_pre_fire_bands = sorted(glob(\n",
    "    os.path.join('landsat-20160409', '*B[2-7].TIF')))\n",
    "\n",
    "# List of processed bands\n",
    "all_bands = landsat.process_bands(\n",
    "    all_landsat_bands, chimney_fire_reproj, stack=False)\n",
    "all_post_bands = landsat.process_bands(\n",
    "    all_post_fire_bands, chimney_fire_reproj, stack=False)\n",
    "all_pre_bands = landsat.process_bands(\n",
    "    all_pre_fire_bands, chimney_fire_reproj, stack=False)\n",
    "# Stack of processed bands\n",
    "landsat_xr = landsat.process_bands(\n",
    "    all_landsat_bands, chimney_fire_reproj, stack=True)\n",
    "post_fire_xr = landsat.process_bands(\n",
    "    all_post_fire_bands, chimney_fire_reproj, stack=True)\n",
    "pre_fire_xr = landsat.process_bands(\n",
    "    all_pre_fire_bands, chimney_fire_reproj, stack=True)"
   ]
  },
  {
   "cell_type": "code",
   "execution_count": null,
   "id": "d46ef637",
   "metadata": {},
   "outputs": [],
   "source": [
    "# Define cloud mask values\n",
    "high_cloud_confidence = (\n",
    "    em.pixel_flags['pixel_qa']['L8']['High Cloud Confidence'])\n",
    "cloud = em.pixel_flags['pixel_qa']['L8']['Cloud']\n",
    "cloud_shadow = em.pixel_flags['pixel_qa']['L8']['Cloud Shadow']\n",
    "\n",
    "cloud_values = high_cloud_confidence + cloud + cloud_shadow\n",
    "\n",
    "# Pixel QA Path for Clouds\n",
    "pixel_qa_path = os.path.join(\n",
    "    'landsat-20170412',\n",
    "    'LC08_L2SP_019035_20170412_20200904_02_T1_QA_PIXEL.TIF')\n",
    "post_qa_path = os.path.join(\n",
    "    'landsat-20171005', \n",
    "    'LC08_L2SP_019035_20171005_20200903_02_T1_QA_PIXEL.TIF')\n",
    "pre_qa_path = os.path.join(\n",
    "    'landsat-20160409', \n",
    "    'LC08_L2SP_019035_20160409_20200907_02_T1_QA_PIXEL.TIF')"
   ]
  },
  {
   "cell_type": "code",
   "execution_count": null,
   "id": "443ac302",
   "metadata": {},
   "outputs": [],
   "source": [
    "# Calc nbr and mask for clouds\n",
    "nbr = landsat.masked_norm_diff(\n",
    "    all_bands, chimney_fire_reproj, pixel_qa_path, cloud_values, calc='nbr')\n",
    "post_nbr = landsat.masked_norm_diff(\n",
    "    all_post_bands, chimney_fire_reproj, post_qa_path, cloud_values, calc='nbr')\n",
    "pre_nbr = landsat.masked_norm_diff(\n",
    "    all_pre_bands, chimney_fire_reproj, pre_qa_path, cloud_values, calc='nbr')\n",
    "\n",
    "# Define dnbr\n",
    "dnbr = pre_nbr - post_nbr"
   ]
  },
  {
   "cell_type": "code",
   "execution_count": null,
   "id": "2ab0b75b",
   "metadata": {},
   "outputs": [],
   "source": [
    "# Define the Landsat data plot extent\n",
    "landsat_extent = plotting_extent(\n",
    "    landsat_xr[0], landsat_xr.rio.transform())\n",
    "\n",
    "# Plot dNBR\n",
    "fig, ax = plt.subplots(figsize=(12, 6))\n",
    "\n",
    "plot = ax.imshow(dnbr,\n",
    "                  extent=landsat_extent,\n",
    "                  cmap='PiYG')\n",
    "\n",
    "# Color bar settings\n",
    "cbar = plt.colorbar(plot, aspect=40)\n",
    "cbar.set_label('Diff Normalized Burn Ratio', rotation=90, labelpad=20)\n",
    "\n",
    "# Remove scientific notation from tile coordinates\n",
    "ax.ticklabel_format(useOffset=False, style='plain')\n",
    "\n",
    "# Set figure title and axes labels\n",
    "ax.set(\n",
    "    title='Chimney Tops 2 Fire dNBR\\n (Apr. 9, 2016-Oct. 5, 2017)',\n",
    "    xlabel='UTM easting (m)',\n",
    "    ylabel='UTM northing (m)')\n",
    "rotatexlabels = plt.setp(ax.get_xticklabels(), rotation=90)\n",
    "ax.set(xlim=[274000, 275000], ylim=[3947000, 3948000])\n",
    "\n",
    "# Data source caption\n",
    "ax.text(.95, .01, \"Source: Landsat\", va='bottom',\n",
    "         ha='right', transform=ax.transAxes, color=\"blue\", fontweight=\"bold\")\n",
    "\n",
    "plt.show()"
   ]
  },
  {
   "cell_type": "markdown",
   "id": "0a08a94c",
   "metadata": {},
   "source": [
    "#### Figure 4 Caption:\n",
    "Here, we plot the dNBR for the Chimney Tops 2 Fire using Landsat data. Pink areas represent regrowth after the fire, and green areas represent burn areas that are still recovering. The Landsat data with 30-meter spatial resolution suggests that most of the area within the 1-km<sup>2</sup> tile have signs of regrowth and that about 25% of the tile also has significant regrowth."
   ]
  },
  {
   "cell_type": "markdown",
   "id": "8e89be73",
   "metadata": {},
   "source": [
    "#### Figure 5: Difference Normalized Burn Ratio of NEON Reflectance for the Chimney Tops 2 Fire"
   ]
  },
  {
   "cell_type": "code",
   "execution_count": null,
   "id": "1e40c29a",
   "metadata": {},
   "outputs": [],
   "source": [
    "# Calculate NBR\n",
    "post_fire_nbr = refl.calc_norm_diff(\n",
    "    post_fire_stack[:, :, 2], post_fire_stack[:, :, 3])\n",
    "pre_fire_nbr = refl.calc_norm_diff(\n",
    "    pre_fire_stack[:, :, 2], pre_fire_stack[:, :, 3])\n",
    "\n",
    "# Calculate dNBR\n",
    "dnbr = pre_fire_nbr - post_fire_nbr\n",
    "\n",
    "# Plot dNBR\n",
    "fig, ax = plt.subplots(figsize=(12, 6))\n",
    "\n",
    "plot = ax.imshow(dnbr,\n",
    "                  extent=post_fire_metadata['extent'],\n",
    "                  cmap='PiYG')\n",
    "\n",
    "# Color bar settings\n",
    "cbar = plt.colorbar(plot, aspect=40)\n",
    "cbar.set_label('Diff Normalized Burn Ratio', rotation=90, labelpad=20)\n",
    "\n",
    "# Remove scientific notation from tile coordinates\n",
    "ax.ticklabel_format(useOffset=False, style='plain')\n",
    "\n",
    "# Set figure title and axes labels\n",
    "ax.set(title='Chimney Tops 2 Fire dNBR\\n (June 2016-October 2017)',\n",
    "       xlabel='UTM easting (m)',\n",
    "       ylabel='UTM northing (m)')\n",
    "rotatexlabels = plt.setp(ax.get_xticklabels(), rotation=90)\n",
    "#ax.set(xlim=[274000, 274200], ylim=[3947300, 3947500])\n",
    "\n",
    "# Data source caption\n",
    "ax.text(.95, .01, \"Source: NEON Airborne Observation Platform\", va='bottom',\n",
    "         ha='right', transform=ax.transAxes, color=\"blue\", fontweight=\"bold\")\n",
    "\n",
    "plt.show()"
   ]
  },
  {
   "cell_type": "markdown",
   "id": "6447b1aa",
   "metadata": {},
   "source": [
    "#### Figure 5 Caption: \n",
    "Here, we plot the dNBR for the Chimney Tops 2 Fire using NEON data. The NEON data with 1-meter spatial resolution also suggests that most of the area within the 1-km<sup>2</sup> tile have signs of regrowth, but the regrowth does not appear as strong as suggested by the Landsat data. In fact, the 25% of significant regrowth in the Landsat data is characterized as mild regrowth in the NEON data.The higher spatial resolution of the NEON data allows us to measure changes on the order of fire effects on the ground. Availability of higher resolution remote measurements will allow us to study fires more efficiently and with greater accuracy."
   ]
  },
  {
   "cell_type": "markdown",
   "id": "aa78eabf",
   "metadata": {},
   "source": [
    "## Next steps\n",
    "We are also working on a spectral analysis with NEON reflectance data and field data. Learn more about our post-wildfire recovery study below! \n",
    "* https://github.com/AreteY/post-wildfire-recovery  "
   ]
  }
 ],
 "metadata": {
  "kernelspec": {
   "display_name": "Python 3 (ipykernel)",
   "language": "python",
   "name": "python3"
  },
  "language_info": {
   "codemirror_mode": {
    "name": "ipython",
    "version": 3
   },
   "file_extension": ".py",
   "mimetype": "text/x-python",
   "name": "python",
   "nbconvert_exporter": "python",
   "pygments_lexer": "ipython3",
   "version": "3.8.13"
  }
 },
 "nbformat": 4,
 "nbformat_minor": 5
}
